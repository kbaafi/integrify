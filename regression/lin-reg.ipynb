{
 "cells": [
  {
   "cell_type": "code",
   "execution_count": null,
   "metadata": {},
   "outputs": [],
   "source": [
    "class LinearRegression(self, fit_bias = True):\n",
    "    \"\"\"Linear regression using normal functions\"\"\"\n",
    "    \n",
    "    def __init__(self,fit_bias=True):\n",
    "        self.fit_bias = fit_bias\n",
    "        self.bias = None\n",
    "        self.weights = None\n",
    "    \n",
    "    def fit(self,x,y):\n",
    "        self.data = x\n",
    "        self.target = y\n",
    "        \n",
    "        if len(x.shape)==1:\n",
    "            self.data = self.data.reshape(-1,1)\n",
    "        \n",
    "        # adding bias\n",
    "        if self.fit_bias:\n",
    "            bias = np.ones((x.shape[0],1))\n",
    "            self.data = np.hstack(bias,self.data)\n",
    "            \n",
    "        # closed form solution\n",
    "        xTx = self.data.T.dot(self.data)\n",
    "        inv_xTx = np.linalg.pinv(xTx)\n",
    "        xTy = self.data.T.dot(y)\n",
    "        coeffs = inv_xTx.dot(xTy)\n",
    "        \n",
    "        if self.fit_bias == True:\n",
    "            self.bias = coeffs[0]\n",
    "            self.weights = coeffs[1:]\n",
    "        else:\n",
    "            self.bias = 0\n",
    "            self.weights = coeffs\n",
    "            \n",
    "        def predict(self,example):\n",
    "            if(len(example.shape)==1):\n",
    "                example = example.reshape(-1,1)\n",
    "            \n",
    "            if self.bias is not None:\n",
    "                \n",
    "            else:\n",
    "                \n",
    "            \n",
    "            \n",
    "            return prediction\n",
    "        \n",
    "        "
   ]
  },
  {
   "cell_type": "code",
   "execution_count": 2,
   "metadata": {},
   "outputs": [],
   "source": [
    "import numpy as np"
   ]
  },
  {
   "cell_type": "code",
   "execution_count": 9,
   "metadata": {},
   "outputs": [
    {
     "name": "stdout",
     "output_type": "stream",
     "text": [
      "[[1 1 1 5]\n",
      " [3 2 2 5]\n",
      " [4 3 3 5]]\n",
      "[[1.]\n",
      " [1.]\n",
      " [1.]]\n",
      "[[1. 1. 1. 1. 5.]\n",
      " [1. 3. 2. 2. 5.]\n",
      " [1. 4. 3. 3. 5.]]\n"
     ]
    }
   ],
   "source": [
    "a = [[1,1,1,5],[3,2,2,5],[4,3,3,5]]\n",
    "na = np.array(a)\n",
    "print(na)\n",
    "b = np.ones((na.shape[0],1))\n",
    "print(b)\n",
    "c = np.hstack((b,na))\n",
    "print(c)"
   ]
  },
  {
   "cell_type": "code",
   "execution_count": null,
   "metadata": {},
   "outputs": [],
   "source": []
  }
 ],
 "metadata": {
  "kernelspec": {
   "display_name": "Python 3",
   "language": "python",
   "name": "python3"
  },
  "language_info": {
   "codemirror_mode": {
    "name": "ipython",
    "version": 3
   },
   "file_extension": ".py",
   "mimetype": "text/x-python",
   "name": "python",
   "nbconvert_exporter": "python",
   "pygments_lexer": "ipython3",
   "version": "3.7.3"
  }
 },
 "nbformat": 4,
 "nbformat_minor": 2
}
