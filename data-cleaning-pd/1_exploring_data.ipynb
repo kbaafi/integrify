{
 "cells": [
  {
   "cell_type": "markdown",
   "metadata": {},
   "source": [
    "# Data Exploration"
   ]
  },
  {
   "cell_type": "code",
   "execution_count": 35,
   "metadata": {},
   "outputs": [],
   "source": [
    "import pandas as pd\n",
    "import matplotlib.pyplot as plt"
   ]
  },
  {
   "cell_type": "code",
   "execution_count": 36,
   "metadata": {},
   "outputs": [
    {
     "name": "stderr",
     "output_type": "stream",
     "text": [
      "/home/kbaafi/anaconda3/lib/python3.6/site-packages/IPython/core/interactiveshell.py:2785: DtypeWarning: Columns (16) have mixed types. Specify dtype option on import or set low_memory=False.\n",
      "  interactivity=interactivity, compiler=compiler, result=result)\n"
     ]
    }
   ],
   "source": [
    "df = pd.read_csv('datasets/dob_job_application_filings_subset.csv')"
   ]
  },
  {
   "cell_type": "code",
   "execution_count": null,
   "metadata": {},
   "outputs": [],
   "source": [
    "# print head\n",
    "df.head()"
   ]
  },
  {
   "cell_type": "code",
   "execution_count": null,
   "metadata": {},
   "outputs": [],
   "source": [
    "# print tail\n",
    "df.tail()"
   ]
  },
  {
   "cell_type": "code",
   "execution_count": 41,
   "metadata": {},
   "outputs": [
    {
     "data": {
      "text/plain": [
       "((12846, 83),\n",
       " Index(['Job #', 'Doc #', 'Borough', 'House #', 'Street Name', 'Block', 'Lot',\n",
       "        'Bin #', 'Job Type', 'Job Status', 'Job Status Descrp',\n",
       "        'Latest Action Date', 'Building Type', 'Community - Board', 'Cluster',\n",
       "        'Landmarked', 'Adult Estab', 'Loft Board', 'City Owned', 'Little e',\n",
       "        'PC Filed', 'eFiling Filed', 'Plumbing', 'Mechanical', 'Boiler',\n",
       "        'Fuel Burning', 'Fuel Storage', 'Standpipe', 'Sprinkler', 'Fire Alarm',\n",
       "        'Equipment', 'Fire Suppression', 'Curb Cut', 'Other',\n",
       "        'Other Description', 'Applicant's First Name', 'Applicant's Last Name',\n",
       "        'Applicant Professional Title', 'Applicant License #',\n",
       "        'Professional Cert', 'Pre- Filing Date', 'Paid', 'Fully Paid',\n",
       "        'Assigned', 'Approved', 'Fully Permitted', 'Initial Cost',\n",
       "        'Total Est. Fee', 'Fee Status', 'Existing Zoning Sqft',\n",
       "        'Proposed Zoning Sqft', 'Horizontal Enlrgmt', 'Vertical Enlrgmt',\n",
       "        'Enlargement SQ Footage', 'Street Frontage', 'ExistingNo. of Stories',\n",
       "        'Proposed No. of Stories', 'Existing Height', 'Proposed Height',\n",
       "        'Existing Dwelling Units', 'Proposed Dwelling Units',\n",
       "        'Existing Occupancy', 'Proposed Occupancy', 'Site Fill', 'Zoning Dist1',\n",
       "        'Zoning Dist2', 'Zoning Dist3', 'Special District 1',\n",
       "        'Special District 2', 'Owner Type', 'Non-Profit', 'Owner's First Name',\n",
       "        'Owner's Last Name', 'Owner's Business Name', 'Owner's House Number',\n",
       "        'Owner'sHouse Street Name', 'City ', 'State', 'Zip', 'Owner'sPhone #',\n",
       "        'Job Description', 'DOBRunDate', 'initial_cost'],\n",
       "       dtype='object'))"
      ]
     },
     "execution_count": 41,
     "metadata": {},
     "output_type": "execute_result"
    }
   ],
   "source": [
    "# print shape and columns\n",
    "df.shape,df.columns"
   ]
  },
  {
   "cell_type": "code",
   "execution_count": null,
   "metadata": {},
   "outputs": [],
   "source": [
    "df.info()"
   ]
  },
  {
   "cell_type": "markdown",
   "metadata": {},
   "source": [
    "## Exploratory Data Analysis"
   ]
  },
  {
   "cell_type": "code",
   "execution_count": 40,
   "metadata": {},
   "outputs": [
    {
     "name": "stdout",
     "output_type": "stream",
     "text": [
      "              Job #         Doc #         Block           Lot         Bin #  \\\n",
      "count  1.284600e+04  12846.000000  12846.000000  12846.000000  1.284600e+04   \n",
      "mean   2.426788e+08      1.162930   2703.834735    623.303441  2.314997e+06   \n",
      "std    1.312507e+08      0.514937   3143.002812   2000.934794  1.399062e+06   \n",
      "min    1.036438e+08      1.000000      1.000000      0.000000  1.000003e+06   \n",
      "25%    1.216206e+08      1.000000    836.000000     12.000000  1.035728e+06   \n",
      "50%    2.202645e+08      1.000000   1411.500000     32.000000  2.004234e+06   \n",
      "75%    3.208652e+08      1.000000   3355.000000     59.000000  3.343823e+06   \n",
      "max    5.400246e+08      9.000000  99999.000000   9078.000000  5.864852e+06   \n",
      "\n",
      "       Cluster  PC Filed  Existing Zoning Sqft  Proposed Zoning Sqft  \\\n",
      "count      0.0       0.0          1.284600e+04          1.284600e+04   \n",
      "mean       NaN       NaN          1.439973e+03          2.007286e+03   \n",
      "std        NaN       NaN          3.860757e+04          4.081570e+04   \n",
      "min        NaN       NaN          0.000000e+00          0.000000e+00   \n",
      "25%        NaN       NaN          0.000000e+00          0.000000e+00   \n",
      "50%        NaN       NaN          0.000000e+00          0.000000e+00   \n",
      "75%        NaN       NaN          0.000000e+00          0.000000e+00   \n",
      "max        NaN       NaN          2.873107e+06          2.873107e+06   \n",
      "\n",
      "       Enlargement SQ Footage  Street Frontage  ExistingNo. of Stories  \\\n",
      "count            12846.000000     12846.000000            12846.000000   \n",
      "mean                46.101432         3.069360                8.062354   \n",
      "std                784.216569        37.246034               11.874080   \n",
      "min                  0.000000         0.000000                0.000000   \n",
      "25%                  0.000000         0.000000                1.000000   \n",
      "50%                  0.000000         0.000000                4.000000   \n",
      "75%                  0.000000         0.000000                9.000000   \n",
      "max              50384.000000      3160.000000              102.000000   \n",
      "\n",
      "       Proposed No. of Stories  Existing Height  Proposed Height  Owner Type  \\\n",
      "count             12846.000000     12846.000000     12846.000000         0.0   \n",
      "mean                  8.144325        94.022809        94.917562         NaN   \n",
      "std                  11.843492       146.917360       146.580666         NaN   \n",
      "min                   0.000000         0.000000         0.000000         NaN   \n",
      "25%                   2.000000        20.000000        21.000000         NaN   \n",
      "50%                   4.000000        45.000000        45.000000         NaN   \n",
      "75%                   9.000000       105.000000       107.000000         NaN   \n",
      "max                 102.000000      4200.000000      4200.000000         NaN   \n",
      "\n",
      "                Zip  Owner'sPhone #  initial_cost  \n",
      "count  1.284600e+04    1.284600e+04  1.284600e+04  \n",
      "mean   1.210268e+06    5.025739e+09  1.803139e+05  \n",
      "std    1.343588e+07    2.738212e+09  7.961524e+06  \n",
      "min    8.300000e+02    0.000000e+00  0.000000e+00  \n",
      "25%    1.001900e+04    2.126841e+09  0.000000e+00  \n",
      "50%    1.031000e+04    5.169379e+09  1.597500e+04  \n",
      "75%    1.122100e+04    7.186809e+09  6.790500e+04  \n",
      "max    6.063135e+08    9.787266e+09  9.003000e+08  \n"
     ]
    }
   ],
   "source": [
    "print(df.describe())"
   ]
  },
  {
   "cell_type": "markdown",
   "metadata": {},
   "source": [
    "### Frequency counts for categorical data"
   ]
  },
  {
   "cell_type": "code",
   "execution_count": null,
   "metadata": {},
   "outputs": [],
   "source": [
    "# Print the value counts for 'Borough'\n",
    "print(\"describing Borough field\")\n",
    "print(df['Borough'].value_counts(dropna=False))\n",
    "\n",
    "# Print the value_counts for 'State'\n",
    "print(\"\\ndescribing State field\")\n",
    "print(df['State'].value_counts(dropna=False))\n",
    "\n",
    "# Print the value counts for 'Site Fill'\n",
    "print(\"\\ndescribing 'Site Fill' field\")\n",
    "print(df['Site Fill'].value_counts(dropna=False))"
   ]
  },
  {
   "cell_type": "markdown",
   "metadata": {},
   "source": [
    "# Visual EDA\n",
    "\n",
    "For numerical data, we can use to see the distribution of the data and that can help spot outliers"
   ]
  },
  {
   "cell_type": "code",
   "execution_count": null,
   "metadata": {},
   "outputs": [],
   "source": [
    "# Describe the column\n",
    "df['Existing Zoning Sqft'].describe()"
   ]
  },
  {
   "cell_type": "code",
   "execution_count": null,
   "metadata": {},
   "outputs": [],
   "source": [
    "# Plot the histogram\n",
    "df['Existing Zoning Sqft'].plot(kind='hist', rot=70, logx=True, logy=True)\n",
    "\n",
    "# Display the histogram\n",
    "plt.show()"
   ]
  },
  {
   "cell_type": "markdown",
   "metadata": {},
   "source": [
    "Histograms are great ways of visualizing single variables. To visualize multiple variables, boxplots are useful, especially when one of the variables is categorical."
   ]
  },
  {
   "cell_type": "code",
   "execution_count": 44,
   "metadata": {},
   "outputs": [],
   "source": [
    "df['initial_cost'] = df['Initial Cost'].apply(lambda x: float(x.replace('$','')))\n",
    "df['total_est_fee'] = df['Total Est. Fee'].apply(lambda x: float(x.replace('$','')))"
   ]
  },
  {
   "cell_type": "code",
   "execution_count": 38,
   "metadata": {},
   "outputs": [
    {
     "data": {
      "image/png": "[encoded data removed]",
      "text/plain": [
       "<Figure size 432x288 with 1 Axes>"
      ]
     },
     "metadata": {},
     "output_type": "display_data"
    }
   ],
   "source": [
    "# Create the boxplot\n",
    "df.boxplot(column='initial_cost', by='Borough', rot=90)\n",
    "\n",
    "# Display the plot\n",
    "plt.show()"
   ]
  },
  {
   "cell_type": "markdown",
   "metadata": {},
   "source": [
    "Boxplots are great when you have a numeric column that you want to compare across different categories. When you want to visualize two numeric columns, scatter plots are ideal."
   ]
  },
  {
   "cell_type": "code",
   "execution_count": 45,
   "metadata": {},
   "outputs": [
    {
     "data": {
      "image/png": "[encoded data removed]",
      "text/plain": [
       "<Figure size 432x288 with 1 Axes>"
      ]
     },
     "metadata": {},
     "output_type": "display_data"
    }
   ],
   "source": [
    "df.plot(kind=\"scatter\", x=\"initial_cost\", y=\"total_est_fee\", rot=70)\n",
    "plt.show()"
   ]
  },
  {
   "cell_type": "markdown",
   "metadata": {},
   "source": [
    "As you can see there are two outliers. Lets remove them and see"
   ]
  },
  {
   "cell_type": "code",
   "execution_count": 46,
   "metadata": {},
   "outputs": [],
   "source": [
    "df_subset = df[df.total_est_fee <= 20000]"
   ]
  },
  {
   "cell_type": "code",
   "execution_count": 47,
   "metadata": {},
   "outputs": [
    {
     "data": {
      "image/png": "[encoded data removed]",
      "text/plain": [
       "<Figure size 432x288 with 1 Axes>"
      ]
     },
     "metadata": {},
     "output_type": "display_data"
    }
   ],
   "source": [
    "df_subset.plot(kind=\"scatter\", x=\"initial_cost\", y=\"total_est_fee\", rot=70)\n",
    "plt.show()"
   ]
  },
  {
   "cell_type": "markdown",
   "metadata": {},
   "source": [
    "There seems to be a strong correlation between `initial_cost` and `total_est_fee`. In addition take note of large number of points that have an `initial_cost` of 0. It is difficult to infer trends from the earlier plot because it is dominated by outliers"
   ]
  },
  {
   "cell_type": "code",
   "execution_count": null,
   "metadata": {},
   "outputs": [],
   "source": []
  }
 ],
 "metadata": {
  "kernelspec": {
   "display_name": "Python 3",
   "language": "python",
   "name": "python3"
  },
  "language_info": {
   "codemirror_mode": {
    "name": "ipython",
    "version": 3
   },
   "file_extension": ".py",
   "mimetype": "text/x-python",
   "name": "python",
   "nbconvert_exporter": "python",
   "pygments_lexer": "ipython3",
   "version": "3.6.5"
  }
 },
 "nbformat": 4,
 "nbformat_minor": 2
}
