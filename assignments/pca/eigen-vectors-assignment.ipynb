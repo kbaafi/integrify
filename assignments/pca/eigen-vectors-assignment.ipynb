{
 "cells": [
  {
   "cell_type": "markdown",
   "metadata": {},
   "source": [
    "# Eigenvalue Problem"
   ]
  },
  {
   "cell_type": "markdown",
   "metadata": {},
   "source": [
    "Assume we have a transformation matrix $A$, then we are looking for an vector $v$ such that\n",
    "\n",
    "$A\\vec{v} = \\lambda \\vec{v}$, where $\\lambda$ is a scalar\n",
    "\n",
    "$\\lambda$ is the eigen value and $\\vec{v}$ is the eigen vector\n",
    "\n",
    "Concreteley we are looking for $\\lambda$ such that the transformation matrix $A$ only has a scaling effect, but no rotation effect on $v$\n",
    "\n",
    "so given $A\\vec{v} = \\lambda \\vec{v}$ , if we subtract $A\\vec{v}$ from both sides we get \n",
    "\n",
    "$\\vec{0} = \\lambda\\vec{v} - A\\vec{v}$ and \n",
    "\n",
    "$ \\vec{v} (\\lambda I_n - A) = \\vec{0}$\n",
    "\n",
    "For $(\\lambda I_n - A)$ to be non-trivial $\\vec{v}$ must belong to the nullspace of $(\\lambda I_n - A)$\n",
    "\n",
    "That is to say $\\vec{v} \\subset N(\\lambda I_n - A)$ where $N(x)$ denotes the nullspace\n",
    "\n",
    "**Linearity Property**\n",
    "If a matrix $D$ is non-trivial then it has dependent columns and therefore $D$ is not invertible and $\\mid{D}\\mid = \\vec{0}$\n",
    "\n",
    "From this it follows that $\\mid{\\lambda I_n - A}\\mid = \\vec{0}$\n",
    "\n",
    "So for a transformation matrix $A$ we are looking for a vector $\\vec{v}$ and a scalar $\\lambda$  such that $\\mid{\\lambda I_n - A}\\mid = \\vec{0}$ and $A\\vec{v} = \\lambda \\vec{v}$\n",
    "\n",
    "If we solve for $\\lambda_i$, we have found the eigen values of transformation $A$,\n",
    "\n",
    "we can then solve for the vectors $\\vec{v}_i$ to find the eigen vector of $A$\n",
    "\n",
    "**Pseudocode**\n",
    "\n",
    "Inputs: \n",
    "    $A$\n",
    "    \n",
    "Begin:\n",
    "    \n",
    "solve for  $\\lambda$ from $\\mid{\\lambda I_n - A}\\mid = \\vec{0}$\n",
    "    \n",
    "for each $\\lambda_i$ in $\\lambda$:\n",
    "\n",
    "   find $\\vec{v}$ such that $ \\vec{v} (\\lambda I_n - A) = \\vec{0}$\n",
    "   \n",
    "End:\n",
    "\n"
   ]
  },
  {
   "cell_type": "markdown",
   "metadata": {},
   "source": [
    "# EVD of Covariance Matrices"
   ]
  },
  {
   "cell_type": "markdown",
   "metadata": {},
   "source": [
    "Given the covariance matrix $\\mathbf{\\Sigma}$\n",
    "\n",
    "$\\mathbf{\\Sigma} = {\\sum}_i^D\\lambda_i u_i u_i^T$ we can assert that $\\mathbf{\\Sigma}=VDV^{-1}$\n",
    "\n",
    "Since the covariance matrix is symmetric, it has the propterty that all of its eigen vectors are not only independent but also orthogonal\n",
    "\n",
    "Let $A$ be the covariance matrix\n",
    "Let $V = [v_i v_2 ...... v_n]$ be a matrix of eigen vectors placed in the columns\n",
    "Let $D$ be a diagonal matrix where the $ii^{th}$ position, then in accordance to the eigen value problem \n",
    "\n",
    "$AV = VD$\n",
    "$AV = [Av_i, Av_2, ....., Av_n ]$\n",
    "\n",
    "$VD = [\\lambda_1 v_i, \\lambda_1 v_2, ....., \\lambda_n v_n ]$\n",
    "\n",
    "Since $\\mathbf{\\Sigma}$ is symmetric, if we choose any two eigen values, $\\lambda_1 , \\lambda_2$ and corresponding eigen vectors, $v_1, v_2$\n",
    "\n",
    "then $\\lambda_1 v_1 v_2$ = $(\\lambda_1 v_1)^T v_2$\n",
    "\n",
    "$=(A v_1)^T$\n",
    "\n",
    "$=v_1^TA^Tv_2$\n",
    "\n",
    "$=v_1^T(Av_2)$\n",
    "\n",
    "$=v_1^T(\\lambda_2 v_2)$\n",
    "\n",
    "So $\\lambda_1 v_1 v_2$ = $\\lambda_2 v_1 v_2$\n",
    "\n",
    "and it follows that \n",
    "\n",
    "$(\\lambda_1 - \\lambda_2)v_1 . v_2 = 0$\n",
    "\n",
    "Satisfying the condition of no dependence in the columns of a symmetric matrix, therefore we can say that the eigen vectors of a symmetric matrix are orthogonal\n",
    "\n",
    "If $V$ is an orthogonal matrix then it follows that $V^T = V^{-1}$\n",
    "\n",
    "Then the covariance matrix $\\mathbf{\\Sigma}$ which is a symmetric matrix can be diagonalized by a diagonal matrix $D$ and the matrix of eigen vectors $V$ such that\n",
    "\n",
    "$\\mathbf{\\Sigma}$ = $VDV^{-1}$\n",
    "\n",
    "Since $\\mathbf{\\Sigma}^T = \\mathbf{\\Sigma}$\n",
    "\n",
    "$\\mathbf{\\Sigma}^T = (VDV^T)^T = V^{TT}D^TV^T = VDV^T = \\mathbf{\\Sigma}$\n"
   ]
  },
  {
   "cell_type": "markdown",
   "metadata": {},
   "source": [
    "# PCA using EVD"
   ]
  },
  {
   "cell_type": "code",
   "execution_count": 12,
   "metadata": {},
   "outputs": [],
   "source": [
    "import numpy as np"
   ]
  },
  {
   "cell_type": "code",
   "execution_count": 81,
   "metadata": {},
   "outputs": [],
   "source": [
    "N = 3"
   ]
  },
  {
   "cell_type": "code",
   "execution_count": 89,
   "metadata": {},
   "outputs": [
    {
     "data": {
      "text/plain": [
       "array([[6., 1., 2., 8., 2., 3., 5., 2., 5., 8., 4., 9., 3., 7., 6., 4.,\n",
       "        7., 5., 9., 6.],\n",
       "       [0., 5., 8., 9., 9., 2., 1., 5., 8., 5., 7., 3., 0., 8., 5., 4.,\n",
       "        7., 4., 0., 9.],\n",
       "       [1., 8., 4., 0., 5., 1., 0., 1., 5., 1., 4., 4., 6., 2., 0., 2.,\n",
       "        1., 6., 3., 8.]])"
      ]
     },
     "execution_count": 89,
     "metadata": {},
     "output_type": "execute_result"
    }
   ],
   "source": [
    "input_matrix = np.random.randint(10,size=(N, 20)).astype(np.float)\n",
    "input_matrix"
   ]
  },
  {
   "cell_type": "code",
   "execution_count": 90,
   "metadata": {},
   "outputs": [
    {
     "data": {
      "text/plain": [
       "array([2.33333333, 4.66666667, 4.66666667, 5.66666667, 5.33333333,\n",
       "       2.        , 2.        , 2.66666667, 6.        , 4.66666667,\n",
       "       5.        , 5.33333333, 3.        , 5.66666667, 3.66666667,\n",
       "       3.33333333, 5.        , 5.        , 4.        , 7.66666667])"
      ]
     },
     "execution_count": 90,
     "metadata": {},
     "output_type": "execute_result"
    }
   ],
   "source": [
    "mn = input_matrix.mean(axis = 0)\n",
    "mn"
   ]
  },
  {
   "cell_type": "code",
   "execution_count": 91,
   "metadata": {},
   "outputs": [
    {
     "data": {
      "text/plain": [
       "array([[ 3.66666667, -3.66666667, -2.66666667,  2.33333333, -3.33333333,\n",
       "         1.        ,  3.        , -0.66666667, -1.        ,  3.33333333,\n",
       "        -1.        ,  3.66666667,  0.        ,  1.33333333,  2.33333333,\n",
       "         0.66666667,  2.        ,  0.        ,  5.        , -1.66666667],\n",
       "       [-2.33333333,  0.33333333,  3.33333333,  3.33333333,  3.66666667,\n",
       "         0.        , -1.        ,  2.33333333,  2.        ,  0.33333333,\n",
       "         2.        , -2.33333333, -3.        ,  2.33333333,  1.33333333,\n",
       "         0.66666667,  2.        , -1.        , -4.        ,  1.33333333],\n",
       "       [-1.33333333,  3.33333333, -0.66666667, -5.66666667, -0.33333333,\n",
       "        -1.        , -2.        , -1.66666667, -1.        , -3.66666667,\n",
       "        -1.        , -1.33333333,  3.        , -3.66666667, -3.66666667,\n",
       "        -1.33333333, -4.        ,  1.        , -1.        ,  0.33333333]])"
      ]
     },
     "execution_count": 91,
     "metadata": {},
     "output_type": "execute_result"
    }
   ],
   "source": [
    "# Whiten the data\n",
    "\n",
    "input_matrix = input_matrix - mn\n",
    "input_matrix"
   ]
  },
  {
   "cell_type": "code",
   "execution_count": 92,
   "metadata": {},
   "outputs": [
    {
     "data": {
      "text/plain": [
       "array([[ 6.14356725, -3.09415205, -3.0494152 ],\n",
       "       [-3.09415205,  4.96023392, -1.86608187],\n",
       "       [-3.0494152 , -1.86608187,  4.91549708]])"
      ]
     },
     "execution_count": 92,
     "metadata": {},
     "output_type": "execute_result"
    }
   ],
   "source": [
    "covariance = np.cov(input_matrix)\n",
    "covariance"
   ]
  },
  {
   "cell_type": "code",
   "execution_count": 93,
   "metadata": {},
   "outputs": [
    {
     "data": {
      "text/plain": [
       "(array([[-0.57735027, -0.81639127, -0.01311331],\n",
       "        [-0.57735027,  0.4195521 , -0.70045892],\n",
       "        [-0.57735027,  0.39683918,  0.71357224]]),\n",
       " array([0.        , 9.21597319, 6.80332505]))"
      ]
     },
     "execution_count": 93,
     "metadata": {},
     "output_type": "execute_result"
    }
   ],
   "source": [
    "values, vectors = np.linalg.eig(covariance)\n",
    "vectors,values"
   ]
  },
  {
   "cell_type": "code",
   "execution_count": 94,
   "metadata": {},
   "outputs": [
    {
     "ename": "LinAlgError",
     "evalue": "Last 2 dimensions of the array must be square",
     "output_type": "error",
     "traceback": [
      "\u001b[1;31m---------------------------------------------------------------------------\u001b[0m",
      "\u001b[1;31mLinAlgError\u001b[0m                               Traceback (most recent call last)",
      "\u001b[1;32m<ipython-input-94-0033639b9171>\u001b[0m in \u001b[0;36m<module>\u001b[1;34m\u001b[0m\n\u001b[1;32m----> 1\u001b[1;33m \u001b[0mvalues\u001b[0m\u001b[1;33m,\u001b[0m \u001b[0mvectors\u001b[0m \u001b[1;33m=\u001b[0m \u001b[0mnp\u001b[0m\u001b[1;33m.\u001b[0m\u001b[0mlinalg\u001b[0m\u001b[1;33m.\u001b[0m\u001b[0meig\u001b[0m\u001b[1;33m(\u001b[0m\u001b[0minput_matrix\u001b[0m\u001b[1;33m)\u001b[0m\u001b[1;33m\u001b[0m\u001b[1;33m\u001b[0m\u001b[0m\n\u001b[0m\u001b[0;32m      2\u001b[0m \u001b[0mvectors\u001b[0m\u001b[1;33m,\u001b[0m\u001b[0mvalues\u001b[0m\u001b[1;33m\u001b[0m\u001b[1;33m\u001b[0m\u001b[0m\n",
      "\u001b[1;32mD:\\ProgramFiles\\Anaconda\\lib\\site-packages\\numpy\\linalg\\linalg.py\u001b[0m in \u001b[0;36meig\u001b[1;34m(a)\u001b[0m\n\u001b[0;32m   1259\u001b[0m     \u001b[0ma\u001b[0m\u001b[1;33m,\u001b[0m \u001b[0mwrap\u001b[0m \u001b[1;33m=\u001b[0m \u001b[0m_makearray\u001b[0m\u001b[1;33m(\u001b[0m\u001b[0ma\u001b[0m\u001b[1;33m)\u001b[0m\u001b[1;33m\u001b[0m\u001b[1;33m\u001b[0m\u001b[0m\n\u001b[0;32m   1260\u001b[0m     \u001b[0m_assertRankAtLeast2\u001b[0m\u001b[1;33m(\u001b[0m\u001b[0ma\u001b[0m\u001b[1;33m)\u001b[0m\u001b[1;33m\u001b[0m\u001b[1;33m\u001b[0m\u001b[0m\n\u001b[1;32m-> 1261\u001b[1;33m     \u001b[0m_assertNdSquareness\u001b[0m\u001b[1;33m(\u001b[0m\u001b[0ma\u001b[0m\u001b[1;33m)\u001b[0m\u001b[1;33m\u001b[0m\u001b[1;33m\u001b[0m\u001b[0m\n\u001b[0m\u001b[0;32m   1262\u001b[0m     \u001b[0m_assertFinite\u001b[0m\u001b[1;33m(\u001b[0m\u001b[0ma\u001b[0m\u001b[1;33m)\u001b[0m\u001b[1;33m\u001b[0m\u001b[1;33m\u001b[0m\u001b[0m\n\u001b[0;32m   1263\u001b[0m     \u001b[0mt\u001b[0m\u001b[1;33m,\u001b[0m \u001b[0mresult_t\u001b[0m \u001b[1;33m=\u001b[0m \u001b[0m_commonType\u001b[0m\u001b[1;33m(\u001b[0m\u001b[0ma\u001b[0m\u001b[1;33m)\u001b[0m\u001b[1;33m\u001b[0m\u001b[1;33m\u001b[0m\u001b[0m\n",
      "\u001b[1;32mD:\\ProgramFiles\\Anaconda\\lib\\site-packages\\numpy\\linalg\\linalg.py\u001b[0m in \u001b[0;36m_assertNdSquareness\u001b[1;34m(*arrays)\u001b[0m\n\u001b[0;32m    213\u001b[0m         \u001b[0mm\u001b[0m\u001b[1;33m,\u001b[0m \u001b[0mn\u001b[0m \u001b[1;33m=\u001b[0m \u001b[0ma\u001b[0m\u001b[1;33m.\u001b[0m\u001b[0mshape\u001b[0m\u001b[1;33m[\u001b[0m\u001b[1;33m-\u001b[0m\u001b[1;36m2\u001b[0m\u001b[1;33m:\u001b[0m\u001b[1;33m]\u001b[0m\u001b[1;33m\u001b[0m\u001b[1;33m\u001b[0m\u001b[0m\n\u001b[0;32m    214\u001b[0m         \u001b[1;32mif\u001b[0m \u001b[0mm\u001b[0m \u001b[1;33m!=\u001b[0m \u001b[0mn\u001b[0m\u001b[1;33m:\u001b[0m\u001b[1;33m\u001b[0m\u001b[1;33m\u001b[0m\u001b[0m\n\u001b[1;32m--> 215\u001b[1;33m             \u001b[1;32mraise\u001b[0m \u001b[0mLinAlgError\u001b[0m\u001b[1;33m(\u001b[0m\u001b[1;34m'Last 2 dimensions of the array must be square'\u001b[0m\u001b[1;33m)\u001b[0m\u001b[1;33m\u001b[0m\u001b[1;33m\u001b[0m\u001b[0m\n\u001b[0m\u001b[0;32m    216\u001b[0m \u001b[1;33m\u001b[0m\u001b[0m\n\u001b[0;32m    217\u001b[0m \u001b[1;32mdef\u001b[0m \u001b[0m_assertFinite\u001b[0m\u001b[1;33m(\u001b[0m\u001b[1;33m*\u001b[0m\u001b[0marrays\u001b[0m\u001b[1;33m)\u001b[0m\u001b[1;33m:\u001b[0m\u001b[1;33m\u001b[0m\u001b[1;33m\u001b[0m\u001b[0m\n",
      "\u001b[1;31mLinAlgError\u001b[0m: Last 2 dimensions of the array must be square"
     ]
    }
   ],
   "source": [
    "values, vectors = np.linalg.eig(input_matrix)\n",
    "vectors,values"
   ]
  },
  {
   "cell_type": "markdown",
   "metadata": {},
   "source": [
    "Evaluate ${\\Sigma v = \\lambda v}$\n",
    "\n",
    "${\\Sigma v}$"
   ]
  },
  {
   "cell_type": "code",
   "execution_count": 88,
   "metadata": {},
   "outputs": [
    {
     "ename": "TypeError",
     "evalue": "object of type 'int' has no len()",
     "output_type": "error",
     "traceback": [
      "\u001b[1;31m---------------------------------------------------------------------------\u001b[0m",
      "\u001b[1;31mTypeError\u001b[0m                                 Traceback (most recent call last)",
      "\u001b[1;32m<ipython-input-88-214a7c250ea8>\u001b[0m in \u001b[0;36m<module>\u001b[1;34m\u001b[0m\n\u001b[1;32m----> 1\u001b[1;33m \u001b[1;32mfor\u001b[0m \u001b[0mi\u001b[0m \u001b[1;32min\u001b[0m \u001b[0mrange\u001b[0m\u001b[1;33m(\u001b[0m\u001b[0mlen\u001b[0m\u001b[1;33m(\u001b[0m\u001b[0mN\u001b[0m\u001b[1;33m)\u001b[0m\u001b[1;33m)\u001b[0m\u001b[1;33m:\u001b[0m\u001b[1;33m\u001b[0m\u001b[1;33m\u001b[0m\u001b[0m\n\u001b[0m\u001b[0;32m      2\u001b[0m     \u001b[0meigv\u001b[0m \u001b[1;33m=\u001b[0m \u001b[0mvectors\u001b[0m\u001b[1;33m[\u001b[0m\u001b[1;33m:\u001b[0m\u001b[1;33m,\u001b[0m\u001b[0mi\u001b[0m\u001b[1;33m]\u001b[0m\u001b[1;33m.\u001b[0m\u001b[0mreshape\u001b[0m\u001b[1;33m(\u001b[0m\u001b[1;36m1\u001b[0m\u001b[1;33m,\u001b[0m\u001b[0mN\u001b[0m\u001b[1;33m)\u001b[0m\u001b[1;33m.\u001b[0m\u001b[0mT\u001b[0m\u001b[1;33m\u001b[0m\u001b[1;33m\u001b[0m\u001b[0m\n\u001b[0;32m      3\u001b[0m     np.testing.assert_array_almost_equal(scatter_matrix.dot(eigv), eig_val_sc[i] * eigv,\n\u001b[0;32m      4\u001b[0m                                          decimal=6, err_msg='', verbose=True)\n",
      "\u001b[1;31mTypeError\u001b[0m: object of type 'int' has no len()"
     ]
    }
   ],
   "source": [
    "for i in range(len(N)):\n",
    "    eigv = vectors[:,i].reshape(1,N).T\n",
    "    np.testing.assert_array_almost_equal(scatter_matrix.dot(eigv), eig_val_sc[i] * eigv,\n",
    "                                         decimal=6, err_msg='', verbose=True)"
   ]
  },
  {
   "cell_type": "markdown",
   "metadata": {},
   "source": [
    " ${\\lambda v}$"
   ]
  },
  {
   "cell_type": "code",
   "execution_count": 78,
   "metadata": {},
   "outputs": [
    {
     "data": {
      "text/plain": [
       "array([[-9.31048723e+00, -1.57001466e-16, -3.55656026e-03],\n",
       "       [ 6.32600563e+00, -1.57001466e-16, -1.30861838e-02],\n",
       "       [ 2.98448160e+00, -1.57001466e-16,  1.66427440e-02]])"
      ]
     },
     "execution_count": 78,
     "metadata": {},
     "output_type": "execute_result"
    }
   ],
   "source": []
  },
  {
   "cell_type": "code",
   "execution_count": null,
   "metadata": {},
   "outputs": [],
   "source": []
  }
 ],
 "metadata": {
  "kernelspec": {
   "display_name": "Python 3",
   "language": "python",
   "name": "python3"
  },
  "language_info": {
   "codemirror_mode": {
    "name": "ipython",
    "version": 3
   },
   "file_extension": ".py",
   "mimetype": "text/x-python",
   "name": "python",
   "nbconvert_exporter": "python",
   "pygments_lexer": "ipython3",
   "version": "3.7.1"
  }
 },
 "nbformat": 4,
 "nbformat_minor": 2
}
