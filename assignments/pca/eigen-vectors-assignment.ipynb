{
 "cells": [
  {
   "cell_type": "markdown",
   "metadata": {},
   "source": [
    "# Eigenvalue Problem"
   ]
  },
  {
   "cell_type": "markdown",
   "metadata": {},
   "source": [
    "Assume we have a transformation matrix $A$, then we are looking for an vector $v$ such that\n",
    "\n",
    "$A\\vec{v} = \\lambda \\vec{v}$, where $\\lambda$ is a scalar\n",
    "\n",
    "$\\lambda$ is the eigen value and $\\vec{v}$ is the eigen vector\n",
    "\n",
    "Concreteley we are looking for $\\lambda$ such that the transformation matrix $A$ only has a scaling effect, but no rotation effect on $v$\n",
    "\n",
    "so given $A\\vec{v} = \\lambda \\vec{v}$ , if we subtract $A\\vec{v}$ from both sides we get \n",
    "\n",
    "$\\vec{0} = \\lambda\\vec{v} - A\\vec{v}$ and \n",
    "\n",
    "$ \\vec{v} (\\lambda I_n - A) = \\vec{0}$\n",
    "\n",
    "For $(\\lambda I_n - A)$ to be non-trivial $\\vec{v}$ must belong to the nullspace of $(\\lambda I_n - A)$\n",
    "\n",
    "That is to say $\\vec{v} \\subset N(\\lambda I_n - A)$ where $N(x)$ denotes the nullspace\n",
    "\n",
    "**Linearity Property**\n",
    "If a matrix $D$ is non-trivial then it has dependent columns and therefore $D$ is not invertible and $\\mid{D}\\mid = \\vec{0}$\n",
    "\n",
    "From this it follows that $\\mid{\\lambda I_n - A}\\mid = \\vec{0}$\n",
    "\n",
    "So for a transformation matrix $A$ we are looking for a vector $\\vec{v}$ and a scalar $\\lambda$  such that $\\mid{\\lambda I_n - A}\\mid = \\vec{0}$ and $A\\vec{v} = \\lambda \\vec{v}$\n",
    "\n",
    "If we solve for $\\lambda_i$, we have found the eigen values of transformation $A$,\n",
    "\n",
    "we can then solve for the vectors $\\vec{v}_i$ to find the eigen vector of $A$\n",
    "\n",
    "**Pseudocode**\n",
    "\n",
    "Inputs: \n",
    "    $A$\n",
    "    \n",
    "Begin:\n",
    "    \n",
    "solve for  $\\lambda$ from $\\mid{\\lambda I_n - A}\\mid = \\vec{0}$\n",
    "    \n",
    "for each $\\lambda_i$ in $\\lambda$:\n",
    "\n",
    "   find $\\vec{v}$ such that $ \\vec{v} (\\lambda I_n - A) = \\vec{0}$\n",
    "   \n",
    "End:\n",
    "\n"
   ]
  },
  {
   "cell_type": "markdown",
   "metadata": {},
   "source": [
    "# EVD of Covariance Matrices"
   ]
  },
  {
   "cell_type": "markdown",
   "metadata": {},
   "source": [
    "Given the covariance matrix $\\mathbf{\\Sigma}$\n",
    "\n",
    "$\\mathbf{\\Sigma} = {\\sum}_i^D\\lambda_i u_i u_i^T$ we can assert that $\\mathbf{\\Sigma}=VDV^{-1}$\n",
    "\n",
    "Since the covariance matrix is symmetric, it has the propterty that all of its eigen vectors are not only independent but also orthogonal\n",
    "\n",
    "Let $A$ be the covariance matrix\n",
    "Let $V = [v_i v_2 ...... v_n]$ be a matrix of eigen vectors placed in the columns\n",
    "Let $D$ be a diagonal matrix where the $ii^{th}$ position, then in accordance to the eigen value problem \n",
    "\n",
    "$AV = VD$\n",
    "$AV = [Av_i, Av_2, ....., Av_n ]$\n",
    "\n",
    "$VD = [\\lambda_1 v_i, \\lambda_1 v_2, ....., \\lambda_n v_n ]$\n",
    "\n",
    "Since $\\mathbf{\\Sigma}$ is symmetric, if we choose any two eigen values, $\\lambda_1 , \\lambda_2$ and corresponding eigen vectors, $v_1, v_2$\n",
    "\n",
    "then $\\lambda_1 v_1 v_2$ = $(\\lambda_1 v_1)^T v_2$\n",
    "\n",
    "$=(A v_1)^T$\n",
    "\n",
    "$=v_1^TA^Tv_2$\n",
    "\n",
    "$=v_1^T(Av_2)$\n",
    "\n",
    "$=v_1^T(\\lambda_2 v_2)$\n",
    "\n",
    "So $\\lambda_1 v_1 v_2$ = $\\lambda_2 v_1 v_2$\n",
    "\n",
    "and it follows that \n",
    "\n",
    "$(\\lambda_1 - \\lambda_2)v_1 . v_2 = 0$\n",
    "\n",
    "Satisfying the condition of no dependence in the columns of a symmetric matrix, therefore we can say that the eigen vectors of a symmetric matrix are orthogonal\n",
    "\n",
    "If $V$ is an orthogonal matrix then it follows that $V^T = V^{-1}$\n",
    "\n",
    "Then the covariance matrix $\\mathbf{\\Sigma}$ which is a symmetric matrix can be diagonalized by a diagonal matrix $D$ and the matrix of eigen vectors $V$ such that\n",
    "\n",
    "$\\mathbf{\\Sigma}$ = $VDV^{-1}$\n",
    "\n",
    "Since $\\mathbf{\\Sigma}^T = \\mathbf{\\Sigma}$\n",
    "\n",
    "$\\mathbf{\\Sigma}^T = (VDV^T)^T = V^{TT}D^TV^T = VDV^T = \\mathbf{\\Sigma}$\n"
   ]
  },
  {
   "cell_type": "markdown",
   "metadata": {},
   "source": [
    "# PCA using EVD"
   ]
  },
  {
   "cell_type": "code",
   "execution_count": 12,
   "metadata": {},
   "outputs": [],
   "source": [
    "import numpy as np"
   ]
  },
  {
   "cell_type": "code",
   "execution_count": 81,
   "metadata": {},
   "outputs": [],
   "source": [
    "N = 3"
   ]
  },
  {
   "cell_type": "code",
   "execution_count": 82,
   "metadata": {},
   "outputs": [
    {
     "data": {
      "text/plain": [
       "array([[6., 9., 7.],\n",
       "       [6., 7., 1.],\n",
       "       [0., 7., 7.]])"
      ]
     },
     "execution_count": 82,
     "metadata": {},
     "output_type": "execute_result"
    }
   ],
   "source": [
    "input_matrix = np.random.randint(10,size=(N, N)).astype(np.float)\n",
    "input_matrix"
   ]
  },
  {
   "cell_type": "code",
   "execution_count": 83,
   "metadata": {},
   "outputs": [
    {
     "data": {
      "text/plain": [
       "array([4.        , 7.66666667, 5.        ])"
      ]
     },
     "execution_count": 83,
     "metadata": {},
     "output_type": "execute_result"
    }
   ],
   "source": [
    "mn = input_matrix.mean(axis = 0)\n",
    "mn"
   ]
  },
  {
   "cell_type": "code",
   "execution_count": 84,
   "metadata": {},
   "outputs": [
    {
     "data": {
      "text/plain": [
       "array([[ 2.        ,  1.33333333,  2.        ],\n",
       "       [ 2.        , -0.66666667, -4.        ],\n",
       "       [-4.        , -0.66666667,  2.        ]])"
      ]
     },
     "execution_count": 84,
     "metadata": {},
     "output_type": "execute_result"
    }
   ],
   "source": [
    "# Whiten the data\n",
    "\n",
    "input_matrix = input_matrix - mn\n",
    "input_matrix"
   ]
  },
  {
   "cell_type": "code",
   "execution_count": 85,
   "metadata": {},
   "outputs": [
    {
     "data": {
      "text/plain": [
       "array([[ 0.14814815, -0.07407407, -0.07407407],\n",
       "       [-0.07407407,  9.03703704, -8.96296296],\n",
       "       [-0.07407407, -8.96296296,  9.03703704]])"
      ]
     },
     "execution_count": 85,
     "metadata": {},
     "output_type": "execute_result"
    }
   ],
   "source": [
    "covariance = np.cov(input_matrix)\n",
    "covariance"
   ]
  },
  {
   "cell_type": "code",
   "execution_count": 86,
   "metadata": {},
   "outputs": [
    {
     "data": {
      "text/plain": [
       "(array([[ 8.16496581e-01, -5.77350269e-01, -4.68396749e-19],\n",
       "        [-4.08248290e-01, -5.77350269e-01, -7.07106781e-01],\n",
       "        [-4.08248290e-01, -5.77350269e-01,  7.07106781e-01]]),\n",
       " array([ 2.22222222e-01, -6.38378239e-16,  1.80000000e+01]))"
      ]
     },
     "execution_count": 86,
     "metadata": {},
     "output_type": "execute_result"
    }
   ],
   "source": [
    "values, vectors = np.linalg.eig(covariance)\n",
    "vectors,values"
   ]
  },
  {
   "cell_type": "code",
   "execution_count": 87,
   "metadata": {},
   "outputs": [
    {
     "data": {
      "text/plain": [
       "(array([[ 0.21516574-0.14272481j,  0.21516574+0.14272481j,\n",
       "         -0.30151134+0.j        ],\n",
       "        [-0.77459667+0.j        , -0.77459667-0.j        ,\n",
       "          0.90453403+0.j        ],\n",
       "        [ 0.55943093+0.14272481j,  0.55943093-0.14272481j,\n",
       "         -0.30151134+0.j        ]]),\n",
       " array([ 1.66666667e+00+1.1055416j,  1.66666667e+00-1.1055416j,\n",
       "        -2.64283063e-15+0.j       ]))"
      ]
     },
     "execution_count": 87,
     "metadata": {},
     "output_type": "execute_result"
    }
   ],
   "source": [
    "values, vectors = np.linalg.eig(input_matrix)\n",
    "vectors,values"
   ]
  },
  {
   "cell_type": "markdown",
   "metadata": {},
   "source": [
    "Evaluate ${\\Sigma v = \\lambda v}$\n",
    "\n",
    "${\\Sigma v}$"
   ]
  },
  {
   "cell_type": "code",
   "execution_count": 88,
   "metadata": {},
   "outputs": [
    {
     "ename": "TypeError",
     "evalue": "object of type 'int' has no len()",
     "output_type": "error",
     "traceback": [
      "\u001b[1;31m---------------------------------------------------------------------------\u001b[0m",
      "\u001b[1;31mTypeError\u001b[0m                                 Traceback (most recent call last)",
      "\u001b[1;32m<ipython-input-88-214a7c250ea8>\u001b[0m in \u001b[0;36m<module>\u001b[1;34m\u001b[0m\n\u001b[1;32m----> 1\u001b[1;33m \u001b[1;32mfor\u001b[0m \u001b[0mi\u001b[0m \u001b[1;32min\u001b[0m \u001b[0mrange\u001b[0m\u001b[1;33m(\u001b[0m\u001b[0mlen\u001b[0m\u001b[1;33m(\u001b[0m\u001b[0mN\u001b[0m\u001b[1;33m)\u001b[0m\u001b[1;33m)\u001b[0m\u001b[1;33m:\u001b[0m\u001b[1;33m\u001b[0m\u001b[1;33m\u001b[0m\u001b[0m\n\u001b[0m\u001b[0;32m      2\u001b[0m     \u001b[0meigv\u001b[0m \u001b[1;33m=\u001b[0m \u001b[0mvectors\u001b[0m\u001b[1;33m[\u001b[0m\u001b[1;33m:\u001b[0m\u001b[1;33m,\u001b[0m\u001b[0mi\u001b[0m\u001b[1;33m]\u001b[0m\u001b[1;33m.\u001b[0m\u001b[0mreshape\u001b[0m\u001b[1;33m(\u001b[0m\u001b[1;36m1\u001b[0m\u001b[1;33m,\u001b[0m\u001b[0mN\u001b[0m\u001b[1;33m)\u001b[0m\u001b[1;33m.\u001b[0m\u001b[0mT\u001b[0m\u001b[1;33m\u001b[0m\u001b[1;33m\u001b[0m\u001b[0m\n\u001b[0;32m      3\u001b[0m     np.testing.assert_array_almost_equal(scatter_matrix.dot(eigv), eig_val_sc[i] * eigv,\n\u001b[0;32m      4\u001b[0m                                          decimal=6, err_msg='', verbose=True)\n",
      "\u001b[1;31mTypeError\u001b[0m: object of type 'int' has no len()"
     ]
    }
   ],
   "source": [
    "for i in range(len(N)):\n",
    "    eigv = vectors[:,i].reshape(1,N).T\n",
    "    np.testing.assert_array_almost_equal(scatter_matrix.dot(eigv), eig_val_sc[i] * eigv,\n",
    "                                         decimal=6, err_msg='', verbose=True)"
   ]
  },
  {
   "cell_type": "markdown",
   "metadata": {},
   "source": [
    " ${\\lambda v}$"
   ]
  },
  {
   "cell_type": "code",
   "execution_count": 78,
   "metadata": {},
   "outputs": [
    {
     "data": {
      "text/plain": [
       "array([[-9.31048723e+00, -1.57001466e-16, -3.55656026e-03],\n",
       "       [ 6.32600563e+00, -1.57001466e-16, -1.30861838e-02],\n",
       "       [ 2.98448160e+00, -1.57001466e-16,  1.66427440e-02]])"
      ]
     },
     "execution_count": 78,
     "metadata": {},
     "output_type": "execute_result"
    }
   ],
   "source": []
  },
  {
   "cell_type": "code",
   "execution_count": null,
   "metadata": {},
   "outputs": [],
   "source": []
  }
 ],
 "metadata": {
  "kernelspec": {
   "display_name": "Python 3",
   "language": "python",
   "name": "python3"
  },
  "language_info": {
   "codemirror_mode": {
    "name": "ipython",
    "version": 3
   },
   "file_extension": ".py",
   "mimetype": "text/x-python",
   "name": "python",
   "nbconvert_exporter": "python",
   "pygments_lexer": "ipython3",
   "version": "3.7.1"
  }
 },
 "nbformat": 4,
 "nbformat_minor": 2
}
