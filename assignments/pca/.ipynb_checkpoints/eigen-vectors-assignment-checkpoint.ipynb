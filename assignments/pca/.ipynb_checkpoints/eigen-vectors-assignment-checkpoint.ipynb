{
 "cells": [
  {
   "cell_type": "markdown",
   "metadata": {},
   "source": [
    "# Eigenvalue Problem"
   ]
  },
  {
   "cell_type": "markdown",
   "metadata": {},
   "source": [
    "Assume we have a transformation matrix $A$, then we are looking for an vector $v$ such that\n",
    "\n",
    "$A\\vec{v} = \\lambda \\vec{v}$, where $\\lambda$ is a scalar\n",
    "\n",
    "$\\lambda$ is the eigen value and $\\vec{v}$ is the eigen vector\n",
    "\n",
    "Concreteley we are looking for $\\lambda$ such that the transformation matrix $A$ only has a scaling effect, but no rotation effect on $v$\n",
    "\n",
    "so given $A\\vec{v} = \\lambda \\vec{v}$ , if we subtract $A\\vec{v}$ from both sides we get \n",
    "\n",
    "$\\vec{0} = \\lambda\\vec{v} - A\\vec{v}$ and \n",
    "\n",
    "$ \\vec{v} (\\lambda I_n - A) = \\vec{0}$\n",
    "\n",
    "For $(\\lambda I_n - A)$ to be non-trivial $\\vec{v}$ must belong to the nullspace of $(\\lambda I_n - A)$\n",
    "\n",
    "That is to say $\\vec{v} \\subset N(\\lambda I_n - A)$ where $N(x)$ denotes the nullspace\n",
    "\n",
    "**Linearity Property**\n",
    "If a matrix $D$ is non-trivial then it has dependent columns and therefore $D$ is not invertible and $\\mid{D}\\mid = \\vec{0}$\n",
    "\n",
    "From this it follows that $\\mid{\\lambda I_n - A}\\mid = \\vec{0}$\n",
    "\n",
    "So for a transformation matrix $A$ we are looking for a vector $\\vec{v}$ and a scalar $\\lambda$  such that $\\mid{\\lambda I_n - A}\\mid = \\vec{0}$ and $A\\vec{v} = \\lambda \\vec{v}$\n",
    "\n",
    "If we solve for $\\lambda_i$, we have found the eigen values of transformation $A$,\n",
    "\n",
    "we can then solve for the vectors $\\vec{v}_i$ to find the eigen vector of $A$\n",
    "\n",
    "**Pseudocode**\n",
    "\n",
    "Inputs: \n",
    "    $A$\n",
    "    \n",
    "Begin:\n",
    "    \n",
    "solve for  $\\lambda$ from $\\mid{\\lambda I_n - A}\\mid = \\vec{0}$\n",
    "    \n",
    "for each $\\lambda_i$ in $\\lambda$:\n",
    "\n",
    "   find $\\vec{v}$ such that $ \\vec{v} (\\lambda I_n - A) = \\vec{0}$\n",
    "   \n",
    "End:\n",
    "\n"
   ]
  },
  {
   "cell_type": "markdown",
   "metadata": {},
   "source": [
    "# EVD of Covariance Matrices"
   ]
  },
  {
   "cell_type": "markdown",
   "metadata": {},
   "source": [
    "Given the covariance matrix $\\mathbf{\\Sigma}$\n",
    "\n",
    "$\\mathbf{\\Sigma} = {\\sum}_i^D\\lambda_i u_i u_i^T$ we can assert that $\\mathbf{\\Sigma}=VDV^{-1}$\n",
    "\n",
    "Since the covariance matrix is symmetric, it has the propterty that all of its eigen vectors are not only independent but also orthogonal\n",
    "\n",
    "Let $A$ be the covariance matrix\n",
    "Let $V = [v_i v_2 ...... v_n]$ be a matrix of eigen vectors placed in the columns\n",
    "Let $D$ be a diagonal matrix where the $ii^{th}$ position, then in accordance to the eigen value problem \n",
    "\n",
    "$AV = VD$\n",
    "$AV = [Av_i, Av_2, ....., Av_n ]$\n",
    "\n",
    "$VD = [\\lambda_1 v_i, \\lambda_1 v_2, ....., \\lambda_n v_n ]$\n",
    "\n",
    "Since $\\mathbf{\\Sigma}$ is symmetric, if we choose any two eigen values, $\\lambda_1 , \\lambda_2$ and corresponding eigen vectors, $v_1, v_2$\n",
    "\n",
    "then $\\lambda_1 v_1 v_2$ = $(\\lambda_1 v_1)^T v_2$\n",
    "\n",
    "$=(A v_1)^T$\n",
    "\n",
    "$=v_1^TA^Tv_2$\n",
    "\n",
    "$=v_1^T(Av_2)$\n",
    "\n",
    "$=v_1^T(\\lambda_2 v_2)$\n",
    "\n",
    "So $\\lambda_1 v_1 v_2$ = $\\lambda_2 v_1 v_2$\n",
    "\n",
    "and it follows that \n",
    "\n",
    "$(\\lambda_1 - \\lambda_2)v_1 . v_2 = 0$\n",
    "\n",
    "Satisfying the condition of no dependence in the columns of a symmetric matrix, therefore we can say that the eigen vectors of a symmetric matrix are orthogonal\n",
    "\n",
    "If $V$ is an orthogonal matrix then it follows that $V^T = V^{-1}$\n",
    "\n",
    "Then the covariance matrix $\\mathbf{\\Sigma}$ which is a symmetric matrix can be diagonalized by a diagonal matrix $D$ and the matrix of eigen vectors $V$ such that\n",
    "\n",
    "$\\mathbf{\\Sigma}$ = $VDV^{-1}$\n",
    "\n",
    "Since $\\mathbf{\\Sigma}^T = \\mathbf{\\Sigma}$\n",
    "\n",
    "$\\mathbf{\\Sigma}^T = (VDV^T)^T = V^{TT}D^TV^T = VDV^T = \\mathbf{\\Sigma}$\n"
   ]
  },
  {
   "cell_type": "markdown",
   "metadata": {},
   "source": [
    "# PCA using EVD"
   ]
  },
  {
   "cell_type": "code",
   "execution_count": 2,
   "metadata": {},
   "outputs": [],
   "source": [
    "import numpy as np"
   ]
  },
  {
   "cell_type": "code",
   "execution_count": 3,
   "metadata": {},
   "outputs": [],
   "source": [
    "N = 3"
   ]
  },
  {
   "cell_type": "code",
   "execution_count": 4,
   "metadata": {},
   "outputs": [
    {
     "data": {
      "text/plain": [
       "array([[0., 4., 6., 6., 3., 2., 1., 1., 3., 5., 4., 8., 3., 2., 9., 0.,\n",
       "        2., 6., 1., 9.],\n",
       "       [9., 3., 8., 8., 0., 2., 9., 0., 9., 6., 4., 1., 7., 7., 7., 3.,\n",
       "        8., 0., 3., 6.],\n",
       "       [0., 4., 2., 5., 4., 7., 1., 4., 7., 1., 8., 7., 1., 5., 1., 7.,\n",
       "        7., 3., 0., 6.]])"
      ]
     },
     "execution_count": 4,
     "metadata": {},
     "output_type": "execute_result"
    }
   ],
   "source": [
    "input_matrix = np.random.randint(10,size=(N, 20)).astype(np.float)\n",
    "input_matrix"
   ]
  },
  {
   "cell_type": "code",
   "execution_count": 5,
   "metadata": {},
   "outputs": [
    {
     "data": {
      "text/plain": [
       "array([3.        , 3.66666667, 5.33333333, 6.33333333, 2.33333333,\n",
       "       3.66666667, 3.66666667, 1.66666667, 6.33333333, 4.        ,\n",
       "       5.33333333, 5.33333333, 3.66666667, 4.66666667, 5.66666667,\n",
       "       3.33333333, 5.66666667, 3.        , 1.33333333, 7.        ])"
      ]
     },
     "execution_count": 5,
     "metadata": {},
     "output_type": "execute_result"
    }
   ],
   "source": [
    "mn = input_matrix.mean(axis = 0)\n",
    "mn"
   ]
  },
  {
   "cell_type": "code",
   "execution_count": 6,
   "metadata": {},
   "outputs": [
    {
     "data": {
      "text/plain": [
       "array([[-3.        ,  0.33333333,  0.66666667, -0.33333333,  0.66666667,\n",
       "        -1.66666667, -2.66666667, -0.66666667, -3.33333333,  1.        ,\n",
       "        -1.33333333,  2.66666667, -0.66666667, -2.66666667,  3.33333333,\n",
       "        -3.33333333, -3.66666667,  3.        , -0.33333333,  2.        ],\n",
       "       [ 6.        , -0.66666667,  2.66666667,  1.66666667, -2.33333333,\n",
       "        -1.66666667,  5.33333333, -1.66666667,  2.66666667,  2.        ,\n",
       "        -1.33333333, -4.33333333,  3.33333333,  2.33333333,  1.33333333,\n",
       "        -0.33333333,  2.33333333, -3.        ,  1.66666667, -1.        ],\n",
       "       [-3.        ,  0.33333333, -3.33333333, -1.33333333,  1.66666667,\n",
       "         3.33333333, -2.66666667,  2.33333333,  0.66666667, -3.        ,\n",
       "         2.66666667,  1.66666667, -2.66666667,  0.33333333, -4.66666667,\n",
       "         3.66666667,  1.33333333,  0.        , -1.33333333, -1.        ]])"
      ]
     },
     "execution_count": 6,
     "metadata": {},
     "output_type": "execute_result"
    }
   ],
   "source": [
    "# Whiten the data\n",
    "\n",
    "input_matrix = input_matrix - mn\n",
    "input_matrix"
   ]
  },
  {
   "cell_type": "markdown",
   "metadata": {},
   "source": [
    "**Scatter method for evaluating covariance**"
   ]
  },
  {
   "cell_type": "code",
   "execution_count": 7,
   "metadata": {},
   "outputs": [
    {
     "data": {
      "text/plain": [
       "array([[ 48.88888889, -34.27777778, -14.61111111],\n",
       "       [-34.27777778,  77.05555556, -42.77777778],\n",
       "       [-14.61111111, -42.77777778,  57.38888889]])"
      ]
     },
     "execution_count": 7,
     "metadata": {},
     "output_type": "execute_result"
    }
   ],
   "source": [
    "cov = 1/(N-1)*np.matmul(input_matrix,input_matrix.T)\n",
    "cov"
   ]
  },
  {
   "cell_type": "markdown",
   "metadata": {},
   "source": [
    "**Numpy implementation of covariance**"
   ]
  },
  {
   "cell_type": "code",
   "execution_count": 8,
   "metadata": {},
   "outputs": [
    {
     "data": {
      "text/plain": [
       "array([[ 4.88304094, -3.21345029, -1.66959064],\n",
       "       [-3.21345029,  7.51900585, -4.30555556],\n",
       "       [-1.66959064, -4.30555556,  5.9751462 ]])"
      ]
     },
     "execution_count": 8,
     "metadata": {},
     "output_type": "execute_result"
    }
   ],
   "source": [
    "covariance = np.cov(input_matrix)\n",
    "covariance"
   ]
  },
  {
   "cell_type": "markdown",
   "metadata": {},
   "source": [
    "It seems numpy method produces a matrix that is scaled down by a factor of circa 10 in this case "
   ]
  },
  {
   "cell_type": "code",
   "execution_count": 9,
   "metadata": {},
   "outputs": [
    {
     "data": {
      "text/plain": [
       "(array([1.42108547e-14, 6.66427892e+01, 1.16690544e+02]),\n",
       " array([[ 0.57735027,  0.75996351,  0.29853331],\n",
       "        [ 0.57735027, -0.12144433, -0.80741436],\n",
       "        [ 0.57735027, -0.63851918,  0.50888105]]))"
      ]
     },
     "execution_count": 9,
     "metadata": {},
     "output_type": "execute_result"
    }
   ],
   "source": [
    "lambdas_sc, vs_sc = np.linalg.eig(cov)\n",
    "lambdas_sc, vs_sc"
   ]
  },
  {
   "cell_type": "code",
   "execution_count": 10,
   "metadata": {},
   "outputs": [
    {
     "data": {
      "text/plain": [
       "(array([8.88178420e-16, 6.89463621e+00, 1.14825568e+01]),\n",
       " array([[-0.57735027, -0.77729957,  0.24994409],\n",
       "        [-0.57735027,  0.17219185, -0.79813322],\n",
       "        [-0.57735027,  0.60510772,  0.54818913]]))"
      ]
     },
     "execution_count": 10,
     "metadata": {},
     "output_type": "execute_result"
    }
   ],
   "source": [
    "lambdas, vs = np.linalg.eig(covariance)\n",
    "lambdas, vs"
   ]
  },
  {
   "cell_type": "markdown",
   "metadata": {},
   "source": [
    "## Testing EVD"
   ]
  },
  {
   "cell_type": "markdown",
   "metadata": {},
   "source": [
    "Evaluate ${\\Sigma v = \\lambda v}$\n",
    "\n",
    "${\\Sigma v}$"
   ]
  },
  {
   "cell_type": "code",
   "execution_count": 11,
   "metadata": {},
   "outputs": [
    {
     "data": {
      "text/plain": [
       "array([[ 1.88737914e-15, -5.35919775e+00,  2.86999721e+00],\n",
       "       [-4.44089210e-16,  1.18720018e+00, -9.16460998e+00],\n",
       "       [-1.33226763e-15,  4.17199757e+00,  6.29461277e+00]])"
      ]
     },
     "execution_count": 11,
     "metadata": {},
     "output_type": "execute_result"
    }
   ],
   "source": [
    "sigma_v = np.matmul(covariance,vs)\n",
    "sigma_v"
   ]
  },
  {
   "cell_type": "markdown",
   "metadata": {},
   "source": [
    " ${\\lambda v}$"
   ]
  },
  {
   "cell_type": "code",
   "execution_count": 12,
   "metadata": {},
   "outputs": [
    {
     "data": {
      "text/plain": [
       "array([[-5.12790050e-16, -5.35919775e+00,  2.86999721e+00],\n",
       "       [-5.12790050e-16,  1.18720018e+00, -9.16460998e+00],\n",
       "       [-5.12790050e-16,  4.17199757e+00,  6.29461277e+00]])"
      ]
     },
     "execution_count": 12,
     "metadata": {},
     "output_type": "execute_result"
    }
   ],
   "source": [
    "lambda_v = lambdas*vs\n",
    "lambda_v"
   ]
  },
  {
   "cell_type": "markdown",
   "metadata": {},
   "source": [
    "As you can see with the exception rounding off for very low numbers, ${\\Sigma v = \\lambda v}$"
   ]
  },
  {
   "cell_type": "markdown",
   "metadata": {},
   "source": [
    "## Testing EVD on alternate calculation for covariance"
   ]
  },
  {
   "cell_type": "markdown",
   "metadata": {},
   "source": [
    "Evaluate ${\\Sigma v = \\lambda v}$\n",
    "\n",
    "${\\Sigma v}$"
   ]
  },
  {
   "cell_type": "code",
   "execution_count": 13,
   "metadata": {},
   "outputs": [
    {
     "data": {
      "text/plain": [
       "array([[ 0.00000000e+00,  5.06460878e+01,  3.48360139e+01],\n",
       "       [ 3.55271368e-15, -8.09338865e+00, -9.42176206e+01],\n",
       "       [ 7.10542736e-15, -4.25526991e+01,  5.93816066e+01]])"
      ]
     },
     "execution_count": 13,
     "metadata": {},
     "output_type": "execute_result"
    }
   ],
   "source": [
    "sigma_v = np.matmul(cov,vs_sc)\n",
    "sigma_v"
   ]
  },
  {
   "cell_type": "markdown",
   "metadata": {},
   "source": [
    " ${\\lambda v}$"
   ]
  },
  {
   "cell_type": "code",
   "execution_count": 14,
   "metadata": {},
   "outputs": [
    {
     "data": {
      "text/plain": [
       "array([[ 8.20464080e-15,  5.06460878e+01,  3.48360139e+01],\n",
       "       [ 8.20464080e-15, -8.09338865e+00, -9.42176206e+01],\n",
       "       [ 8.20464080e-15, -4.25526991e+01,  5.93816066e+01]])"
      ]
     },
     "execution_count": 14,
     "metadata": {},
     "output_type": "execute_result"
    }
   ],
   "source": [
    "lambda_v = lambdas_sc*vs_sc\n",
    "lambda_v"
   ]
  },
  {
   "cell_type": "markdown",
   "metadata": {},
   "source": [
    "Same result but it seems covariance matrix using $numpy$ produces a scaled down product by a factor of about 10 most entrie match apart from A[2,2]"
   ]
  },
  {
   "cell_type": "markdown",
   "metadata": {},
   "source": [
    "## Principal Components"
   ]
  },
  {
   "cell_type": "code",
   "execution_count": 15,
   "metadata": {},
   "outputs": [
    {
     "name": "stdout",
     "output_type": "stream",
     "text": [
      "11.482556772137679\n",
      "6.894636210318462\n",
      "8.881784197001252e-16\n"
     ]
    }
   ],
   "source": [
    "# First pair each eigen value with its corresponding eigen vector\n",
    "\n",
    "eig_pairs = [(np.abs(lambdas[i]),vs[:,i]) for i in range(len(lambdas))]\n",
    "\n",
    "eig_pairs.sort(key=lambda x:x[0], reverse=True)\n",
    "\n",
    "# Print principal components in decreasing order\n",
    "for i in eig_pairs:\n",
    "    print(i[0])"
   ]
  },
  {
   "cell_type": "code",
   "execution_count": 16,
   "metadata": {},
   "outputs": [
    {
     "name": "stdout",
     "output_type": "stream",
     "text": [
      "116.69054415286867\n",
      "66.64278918046463\n",
      "1.4210854715202004e-14\n"
     ]
    }
   ],
   "source": [
    "# First pair each eigen value with its corresponding eigen vector\n",
    "\n",
    "eig_pairs = [(np.abs(lambdas_sc[i]),vs_sc[:,i]) for i in range(len(lambdas_sc))]\n",
    "\n",
    "eig_pairs.sort(key=lambda x:x[0], reverse=True)\n",
    "\n",
    "# Print principal components in decreasing order\n",
    "for i in eig_pairs:\n",
    "    print(i[0])"
   ]
  },
  {
   "cell_type": "code",
   "execution_count": null,
   "metadata": {},
   "outputs": [],
   "source": []
  }
 ],
 "metadata": {
  "kernelspec": {
   "display_name": "Python 3",
   "language": "python",
   "name": "python3"
  },
  "language_info": {
   "codemirror_mode": {
    "name": "ipython",
    "version": 3
   },
   "file_extension": ".py",
   "mimetype": "text/x-python",
   "name": "python",
   "nbconvert_exporter": "python",
   "pygments_lexer": "ipython3",
   "version": "3.7.3"
  }
 },
 "nbformat": 4,
 "nbformat_minor": 2
}
