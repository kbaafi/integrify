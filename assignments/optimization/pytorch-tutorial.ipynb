{
 "cells": [
  {
   "cell_type": "code",
   "execution_count": 1,
   "metadata": {},
   "outputs": [],
   "source": [
    "from __future__ import print_function\n",
    "import torch\n",
    "import numpy as np"
   ]
  },
  {
   "cell_type": "code",
   "execution_count": 2,
   "metadata": {},
   "outputs": [
    {
     "name": "stdout",
     "output_type": "stream",
     "text": [
      "tensor([[0.2468, 0.6396, 0.4974],\n",
      "        [0.6675, 0.2989, 0.5365],\n",
      "        [0.7819, 0.1912, 0.6868],\n",
      "        [0.5178, 0.9918, 0.3175],\n",
      "        [0.7511, 0.7079, 0.6365]])\n"
     ]
    }
   ],
   "source": [
    "x = torch.rand(5, 3)\n",
    "print(x)"
   ]
  },
  {
   "cell_type": "code",
   "execution_count": 3,
   "metadata": {},
   "outputs": [
    {
     "name": "stdout",
     "output_type": "stream",
     "text": [
      "tensor([[0, 0, 0],\n",
      "        [0, 0, 0],\n",
      "        [0, 0, 0],\n",
      "        [0, 0, 0],\n",
      "        [0, 0, 0]])\n"
     ]
    }
   ],
   "source": [
    "x = torch.zeros(5, 3, dtype=torch.long)\n",
    "print(x)"
   ]
  },
  {
   "cell_type": "code",
   "execution_count": 4,
   "metadata": {},
   "outputs": [
    {
     "name": "stdout",
     "output_type": "stream",
     "text": [
      "tensor([5.5000, 3.0000])\n",
      "torch.Size([2])\n"
     ]
    }
   ],
   "source": [
    "x = torch.tensor([5.5, 3])\n",
    "print(x)\n",
    "print(x.shape)"
   ]
  },
  {
   "cell_type": "code",
   "execution_count": 5,
   "metadata": {},
   "outputs": [
    {
     "name": "stdout",
     "output_type": "stream",
     "text": [
      "tensor([[1., 1., 1.],\n",
      "        [1., 1., 1.],\n",
      "        [1., 1., 1.],\n",
      "        [1., 1., 1.],\n",
      "        [1., 1., 1.]], dtype=torch.float64)\n",
      "torch.Size([5, 3])\n"
     ]
    }
   ],
   "source": [
    "x = x.new_ones(5, 3, dtype=torch.double)      # new_* methods take in sizes\n",
    "print(x)\n",
    "print(x.shape)"
   ]
  },
  {
   "cell_type": "code",
   "execution_count": 6,
   "metadata": {},
   "outputs": [
    {
     "name": "stdout",
     "output_type": "stream",
     "text": [
      "tensor([[ 1.7438, -0.3451,  0.3730],\n",
      "        [ 0.3841,  0.3344, -0.4584],\n",
      "        [ 1.0262, -0.6919,  0.1275],\n",
      "        [-0.2891, -0.9584,  0.1160],\n",
      "        [ 1.1428,  0.6403,  0.9265]])\n"
     ]
    }
   ],
   "source": [
    "x = torch.randn_like(x, dtype=torch.float)\n",
    "print(x)"
   ]
  },
  {
   "cell_type": "code",
   "execution_count": 7,
   "metadata": {},
   "outputs": [
    {
     "name": "stdout",
     "output_type": "stream",
     "text": [
      "torch.Size([5, 3])\n",
      "torch.Size([5, 3])\n"
     ]
    }
   ],
   "source": [
    "print(x.size())\n",
    "print(x.shape)"
   ]
  },
  {
   "cell_type": "code",
   "execution_count": 8,
   "metadata": {},
   "outputs": [
    {
     "name": "stdout",
     "output_type": "stream",
     "text": [
      "tensor([[ 2.4748, -0.1813,  0.6233],\n",
      "        [ 0.6883,  1.2047,  0.2046],\n",
      "        [ 1.5071,  0.0147,  0.3200],\n",
      "        [-0.2549, -0.3255,  0.7428],\n",
      "        [ 1.3479,  0.6768,  1.0706]])\n"
     ]
    }
   ],
   "source": [
    "y = torch.rand(5, 3)\n",
    "print(x + y)"
   ]
  },
  {
   "cell_type": "code",
   "execution_count": 9,
   "metadata": {},
   "outputs": [
    {
     "data": {
      "text/plain": [
       "tensor([[ 2.4748, -0.1813,  0.6233],\n",
       "        [ 0.6883,  1.2047,  0.2046],\n",
       "        [ 1.5071,  0.0147,  0.3200],\n",
       "        [-0.2549, -0.3255,  0.7428],\n",
       "        [ 1.3479,  0.6768,  1.0706]])"
      ]
     },
     "execution_count": 9,
     "metadata": {},
     "output_type": "execute_result"
    }
   ],
   "source": [
    "z = torch.add(x,y)\n",
    "z"
   ]
  },
  {
   "cell_type": "markdown",
   "metadata": {},
   "source": [
    "In place addition"
   ]
  },
  {
   "cell_type": "code",
   "execution_count": 10,
   "metadata": {},
   "outputs": [
    {
     "name": "stdout",
     "output_type": "stream",
     "text": [
      "tensor([[ 2.4748, -0.1813,  0.6233],\n",
      "        [ 0.6883,  1.2047,  0.2046],\n",
      "        [ 1.5071,  0.0147,  0.3200],\n",
      "        [-0.2549, -0.3255,  0.7428],\n",
      "        [ 1.3479,  0.6768,  1.0706]])\n"
     ]
    }
   ],
   "source": [
    "y.add_(x)\n",
    "print(y)"
   ]
  },
  {
   "cell_type": "code",
   "execution_count": 11,
   "metadata": {},
   "outputs": [
    {
     "data": {
      "text/plain": [
       "tensor([-0.1813,  1.2047,  0.0147, -0.3255,  0.6768])"
      ]
     },
     "execution_count": 11,
     "metadata": {},
     "output_type": "execute_result"
    }
   ],
   "source": [
    "a = y[:,1]\n",
    "a"
   ]
  },
  {
   "cell_type": "code",
   "execution_count": 12,
   "metadata": {},
   "outputs": [
    {
     "data": {
      "text/plain": [
       "tensor([[0.6883, 1.2047, 0.2046],\n",
       "        [1.5071, 0.0147, 0.3200]])"
      ]
     },
     "execution_count": 12,
     "metadata": {},
     "output_type": "execute_result"
    }
   ],
   "source": [
    "a = y[1:3,:]\n",
    "a"
   ]
  },
  {
   "cell_type": "markdown",
   "metadata": {},
   "source": [
    "For a one element tensor you can use .item() to get the value as a python number"
   ]
  },
  {
   "cell_type": "markdown",
   "metadata": {},
   "source": [
    "### Numpy"
   ]
  },
  {
   "cell_type": "code",
   "execution_count": 13,
   "metadata": {},
   "outputs": [
    {
     "name": "stdout",
     "output_type": "stream",
     "text": [
      "tensor([1., 1., 1., 1., 1.])\n",
      "[1. 1. 1. 1. 1.]\n"
     ]
    }
   ],
   "source": [
    "a = torch.ones(5)\n",
    "print(a)\n",
    "b = a.numpy()\n",
    "print(b)"
   ]
  },
  {
   "cell_type": "code",
   "execution_count": 14,
   "metadata": {},
   "outputs": [
    {
     "name": "stdout",
     "output_type": "stream",
     "text": [
      "tensor([2., 2., 2., 2., 2.])\n",
      "[2. 2. 2. 2. 2.]\n"
     ]
    }
   ],
   "source": [
    "a.add_(1.)\n",
    "print(a)\n",
    "print(b)"
   ]
  },
  {
   "cell_type": "code",
   "execution_count": 15,
   "metadata": {},
   "outputs": [
    {
     "name": "stdout",
     "output_type": "stream",
     "text": [
      "[2. 2. 2. 2. 2.]\n",
      "tensor([2., 2., 2., 2., 2.], dtype=torch.float64)\n"
     ]
    }
   ],
   "source": [
    "a = np.ones(5)\n",
    "b = torch.from_numpy(a)\n",
    "np.add(a, 1, out=a)\n",
    "print(a)\n",
    "print(b)"
   ]
  },
  {
   "cell_type": "code",
   "execution_count": 16,
   "metadata": {},
   "outputs": [
    {
     "name": "stdout",
     "output_type": "stream",
     "text": [
      "tensor([[2.7438, 0.6549, 1.3730],\n",
      "        [1.3841, 1.3344, 0.5416],\n",
      "        [2.0262, 0.3081, 1.1275],\n",
      "        [0.7109, 0.0416, 1.1160],\n",
      "        [2.1428, 1.6403, 1.9265]], device='cuda:0')\n",
      "tensor([[2.7438, 0.6549, 1.3730],\n",
      "        [1.3841, 1.3344, 0.5416],\n",
      "        [2.0262, 0.3081, 1.1275],\n",
      "        [0.7109, 0.0416, 1.1160],\n",
      "        [2.1428, 1.6403, 1.9265]], dtype=torch.float64)\n"
     ]
    }
   ],
   "source": [
    "if torch.cuda.is_available():\n",
    "    device = torch.device(\"cuda\")          # a CUDA device object\n",
    "    y = torch.ones_like(x, device=device)  # directly create a tensor on GPU\n",
    "    x = x.to(device)                       # or just use strings ``.to(\"cuda\")``\n",
    "    z = x + y\n",
    "    print(z)\n",
    "    print(z.to(\"cpu\", torch.double))"
   ]
  },
  {
   "cell_type": "code",
   "execution_count": 15,
   "metadata": {},
   "outputs": [
    {
     "name": "stdout",
     "output_type": "stream",
     "text": [
      "accessing predefined path\n",
      "Iteration: 0 - Error: 23744392.0000\n",
      "Iteration: 50 - Error: 11550.6650\n",
      "Iteration: 100 - Error: 323.1526\n",
      "Iteration: 150 - Error: 16.2050\n",
      "Iteration: 200 - Error: 1.0760\n",
      "Iteration: 250 - Error: 0.0843\n",
      "Iteration: 300 - Error: 0.0075\n",
      "Iteration: 350 - Error: 0.0009\n",
      "Iteration: 400 - Error: 0.0002\n",
      "Iteration: 450 - Error: 0.0001\n",
      "Iteration: 500 - Error: 0.0000\n",
      "Iteration: 550 - Error: 0.0000\n",
      "Iteration: 600 - Error: 0.0000\n",
      "Iteration: 650 - Error: 0.0000\n",
      "Iteration: 700 - Error: 0.0000\n",
      "Iteration: 750 - Error: 0.0000\n",
      "Iteration: 800 - Error: 0.0000\n",
      "Iteration: 850 - Error: 0.0000\n",
      "Iteration: 900 - Error: 0.0000\n",
      "Iteration: 950 - Error: 0.0000\n",
      "Iteration: 1000 - Error: 0.0000\n",
      "Iteration: 1050 - Error: 0.0000\n",
      "Iteration: 1100 - Error: 0.0000\n",
      "Iteration: 1150 - Error: 0.0000\n",
      "Iteration: 1200 - Error: 0.0000\n",
      "Iteration: 1250 - Error: 0.0000\n",
      "Iteration: 1300 - Error: 0.0000\n",
      "Iteration: 1350 - Error: 0.0000\n",
      "Iteration: 1400 - Error: 0.0000\n",
      "Iteration: 1450 - Error: 0.0000\n",
      "Iteration: 1500 - Error: 0.0000\n",
      "Iteration: 1550 - Error: 0.0000\n",
      "Iteration: 1600 - Error: 0.0000\n",
      "Iteration: 1650 - Error: 0.0000\n",
      "Iteration: 1700 - Error: 0.0000\n",
      "Iteration: 1750 - Error: 0.0000\n",
      "Iteration: 1800 - Error: 0.0000\n",
      "Iteration: 1850 - Error: 0.0000\n",
      "Iteration: 1900 - Error: 0.0000\n",
      "Iteration: 1950 - Error: 0.0000\n",
      "Iteration: 2000 - Error: 0.0000\n",
      "Stopping gradient descent, algorithm converged, MSE loss is smaller than 1E-6\n"
     ]
    }
   ],
   "source": [
    "import torch\n",
    "from torch.autograd import Variable\n",
    "import torch.nn.functional as F\n",
    "from tensorboardX import SummaryWriter\n",
    "import numpy as np\n",
    "\n",
    "log_path = './runs/gd/'\n",
    "\n",
    "if log_path:\n",
    "    print(\"accessing predefined path\")\n",
    "    writer = SummaryWriter(log_dir=log_path)\n",
    "else :\n",
    "    print(\"using new path set\")\n",
    "    writer = SummaryWriter(log_dir='./runs/gd/')\n",
    "\n",
    "dtype = torch.FloatTensor\n",
    "N, D_in, H, D_out = 64, 1000, 100, 10\n",
    "\n",
    "x = Variable(torch.randn(N, D_in).type(dtype), requires_grad=False)\n",
    "y = Variable(torch.randn(N, D_out).type(dtype), requires_grad=False)\n",
    "\n",
    "w1 = Variable(torch.randn(D_in, H).type(dtype), requires_grad=True)\n",
    "w2 = Variable(torch.randn(H, D_out).type(dtype), requires_grad=True)\n",
    "\n",
    "learning_rate = 1e-6\n",
    "errors = []\n",
    "weights_1_out = []\n",
    "weights_2_out = []\n",
    "\n",
    "num_iterations = 5000\n",
    "\n",
    "for iteration in range(num_iterations):\n",
    "    y_pred = F.relu(x.mm(w1).clamp(min=0)).mm(w2)\n",
    "    \n",
    "\n",
    "    error = (y_pred - y).pow(2).sum()\n",
    "    error.backward()\n",
    "    \n",
    "    writer.add_scalar(tag=\"Last run\",scalar_value= error, global_step = iteration)\n",
    "    writer.add_histogram(\"error distribution\",error)\n",
    "\n",
    "    with torch.no_grad():\n",
    "        w1.data -= learning_rate * w1.grad.data\n",
    "        w2.data -= learning_rate * w2.grad.data\n",
    "        \n",
    "    if iteration % 50 == 0:\n",
    "        print(\"Iteration: %d - Error: %.4f\" % (iteration, error.item()))\n",
    "        weights_1_out.append(w1.cpu().detach().numpy())\n",
    "        weights_1_out.append(w2.cpu().detach().numpy())\n",
    "        errors.append(error.cpu().detach().numpy())\n",
    "\n",
    "    w1.grad.data.zero_()\n",
    "    w2.grad.data.zero_()\n",
    "    \n",
    "    if error.item() < 1e-6:\n",
    "        print(\"Stopping gradient descent, algorithm converged, MSE loss is smaller than 1E-6\")\n",
    "        break"
   ]
  },
  {
   "cell_type": "code",
   "execution_count": null,
   "metadata": {},
   "outputs": [],
   "source": []
  },
  {
   "cell_type": "code",
   "execution_count": null,
   "metadata": {},
   "outputs": [],
   "source": []
  }
 ],
 "metadata": {
  "kernelspec": {
   "display_name": "Python 3",
   "language": "python",
   "name": "python3"
  },
  "language_info": {
   "codemirror_mode": {
    "name": "ipython",
    "version": 3
   },
   "file_extension": ".py",
   "mimetype": "text/x-python",
   "name": "python",
   "nbconvert_exporter": "python",
   "pygments_lexer": "ipython3",
   "version": "3.7.3"
  }
 },
 "nbformat": 4,
 "nbformat_minor": 2
}
