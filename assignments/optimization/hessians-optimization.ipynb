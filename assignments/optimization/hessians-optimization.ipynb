{
 "cells": [
  {
   "cell_type": "markdown",
   "metadata": {},
   "source": [
    "# Relation between quadratic form, Hessian, Precision matrix, Mahalanobis distance and Optimization\n",
    "\n",
    "For a Gaussian random vector $\\mathbf{\\Theta}$ with mean $\\mathbf{\\Theta}^{*}$ and covariance matrix $\\mathbf{\\Sigma_{\\Theta}}$ and its joint PDF is given by\n",
    "\n",
    "![eq1](images/eq1.png)\n",
    "\n",
    "The objective function of the random vector can be defined as \n",
    "\n",
    "![eq2](images/eq2.png)\n",
    "\n",
    "We can see that the objective function of the random Gaussian vector is a quadratic function of the components in $\\mathbf{\\Theta}$. About the mean $\\mathbf{\\Theta}^{*}$, the $(l,l')$ component of the Hessian matrix can be written as:\n",
    "\n",
    "![eq3](images/eq3.png)\n",
    "\n",
    "So for a Gaussian random vector, the Hessian matrix evaluated at the mean is the invserse of the covariance matrix (which is the Precision matrix)\n",
    "\n",
    "### Hessian and Optimization\n",
    "A gradient descent with step size $\\alpha$ can be expressed as:\n",
    "\n",
    "$$x^{t+1} = x^t - \\alpha(Hx^{t} - b)$$\n",
    "\n",
    "Where $H$ is the Hessian matrix\n",
    "\n",
    "In the direction of the $i{th}$ eigen vector,\n",
    "\n",
    "$$x^{t+1} = (1 - \\alpha\\lambda_i)^tx^0$$\n",
    "\n",
    "where $x^0$ is the initial vector\n",
    "\n",
    "\n",
    "References: \n",
    "   * [https://onlinelibrary.wiley.com/doi/pdf/10.1002/9780470824566.app1](https://onlinelibrary.wiley.com/doi/pdf/10.1002/9780470824566.app1)\n",
    "    \n",
    "   * [mlexplained.com](http://mlexplained.com/2018/02/02/an-introduction-to-second-order-optimization-for-deep-learning-practitioners-basic-math-for-deep-learning-part-1)"
   ]
  },
  {
   "cell_type": "markdown",
   "metadata": {},
   "source": []
  }
 ],
 "metadata": {
  "kernelspec": {
   "display_name": "Python 3",
   "language": "python",
   "name": "python3"
  },
  "language_info": {
   "codemirror_mode": {
    "name": "ipython",
    "version": 3
   },
   "file_extension": ".py",
   "mimetype": "text/x-python",
   "name": "python",
   "nbconvert_exporter": "python",
   "pygments_lexer": "ipython3",
   "version": "3.7.1"
  }
 },
 "nbformat": 4,
 "nbformat_minor": 2
}
