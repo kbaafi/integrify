{
 "cells": [
  {
   "cell_type": "code",
   "execution_count": 2,
   "metadata": {},
   "outputs": [],
   "source": [
    "from collections import namedtuple\n",
    "import collections"
   ]
  },
  {
   "cell_type": "code",
   "execution_count": 3,
   "metadata": {},
   "outputs": [
    {
     "name": "stdout",
     "output_type": "stream",
     "text": [
      "[1, 2, 3, 4, 1, 2, 3, 4]\n"
     ]
    }
   ],
   "source": [
    "a = [1,2,3,4]\n",
    "b = [1,2,3,4]\n",
    "c = a+b\n",
    "print(c)"
   ]
  },
  {
   "cell_type": "code",
   "execution_count": 4,
   "metadata": {},
   "outputs": [],
   "source": [
    "personal_details = namedtuple('personal_details','date_of_birth')\n",
    "personal_features = namedtuple('personal_features', 'eye_color iq_score')\n",
    "\n",
    "person_1_details = personal_details(date_of_birth='09-04-1991')\n",
    "person_1_features = personal_features(eye_color='Green', iq_score=109)"
   ]
  },
  {
   "cell_type": "code",
   "execution_count": 5,
   "metadata": {},
   "outputs": [
    {
     "name": "stdout",
     "output_type": "stream",
     "text": [
      "OrderedDict([('eye_color', 'Green'), ('iq_score', 109)])\n",
      "OrderedDict([('date_of_birth', '09-04-1991')])\n",
      "odict_keys(['eye_color', 'iq_score'])\n",
      "odict_values(['Green', 109])\n",
      "{'eye_color': 'Green', 'iq_score': 109}\n",
      "['eye_color', 'iq_score', 'date_of_birth']\n",
      "['eye_color', 'iq_score', 'date_of_birth']\n",
      "['Green', 109, '09-04-1991']\n",
      "dict_keys(['__doc__', '__slots__', '_fields', '_fields_defaults', '__new__', '_make', '_replace', '__repr__', '_asdict', '__getnewargs__', 'eye_color', 'iq_score', 'date_of_birth', '__module__'])\n",
      "{'eye_color': 'Green', 'iq_score': 109, 'date_of_birth': '09-04-1991'}\n",
      "Person(eye_color='Green', iq_score=109, date_of_birth='09-04-1991')\n"
     ]
    }
   ],
   "source": [
    "print(person_1_features._asdict())\n",
    "print(person_1_details._asdict())\n",
    "\n",
    "print(person_1_features._asdict().keys())\n",
    "print(person_1_features._asdict().values())\n",
    "\n",
    "ol = {}\n",
    "feats = person_1_features._asdict()\n",
    "for k in person_1_features._asdict():\n",
    "    ol[k]=feats[k]\n",
    "print(ol)\n",
    "\n",
    "keys = [i for i in person_1_features._asdict().keys()]\n",
    "for i in person_1_details._asdict().keys():\n",
    "    keys.append(i)\n",
    "print(keys)\n",
    "\n",
    "vals=[]\n",
    "for i in person_1_features._asdict().values():\n",
    "    vals.append(i)\n",
    "print(keys)\n",
    "for i in person_1_details._asdict().values():\n",
    "    vals.append(i)\n",
    "print(vals)\n",
    "\n",
    "k = namedtuple('Person',keys)\n",
    "print(k.__dict__.keys())\n",
    "\n",
    "l=[]\n",
    "ddd = dict(zip(keys,vals))\n",
    "print(ddd)\n",
    "fff = k(**ddd)\n",
    "print(fff)\n",
    "\n",
    "    "
   ]
  },
  {
   "cell_type": "code",
   "execution_count": 6,
   "metadata": {},
   "outputs": [
    {
     "ename": "AttributeError",
     "evalue": "type object 'personal_features' has no attribute 'as_dict'",
     "output_type": "error",
     "traceback": [
      "\u001b[0;31m---------------------------------------------------------------------------\u001b[0m",
      "\u001b[0;31mAttributeError\u001b[0m                            Traceback (most recent call last)",
      "\u001b[0;32m<ipython-input-6-ee113df80a4c>\u001b[0m in \u001b[0;36m<module>\u001b[0;34m\u001b[0m\n\u001b[0;32m----> 1\u001b[0;31m \u001b[0mres\u001b[0m \u001b[0;34m=\u001b[0m \u001b[0mpersonal_features\u001b[0m\u001b[0;34m.\u001b[0m\u001b[0mas_dict\u001b[0m\u001b[0;34m(\u001b[0m\u001b[0;34m)\u001b[0m\u001b[0;34m\u001b[0m\u001b[0;34m\u001b[0m\u001b[0m\n\u001b[0m\u001b[1;32m      2\u001b[0m \u001b[0mres2\u001b[0m \u001b[0;34m=\u001b[0m \u001b[0mperson_1_details\u001b[0m\u001b[0;34m.\u001b[0m\u001b[0mas_dict\u001b[0m\u001b[0;34m(\u001b[0m\u001b[0;34m)\u001b[0m\u001b[0;34m\u001b[0m\u001b[0;34m\u001b[0m\u001b[0m\n\u001b[1;32m      3\u001b[0m \u001b[0;34m\u001b[0m\u001b[0m\n\u001b[1;32m      4\u001b[0m \u001b[0mprint\u001b[0m\u001b[0;34m(\u001b[0m\u001b[0mres\u001b[0m\u001b[0;34m,\u001b[0m\u001b[0mres2\u001b[0m\u001b[0;34m)\u001b[0m\u001b[0;34m\u001b[0m\u001b[0;34m\u001b[0m\u001b[0m\n",
      "\u001b[0;31mAttributeError\u001b[0m: type object 'personal_features' has no attribute 'as_dict'"
     ]
    }
   ],
   "source": [
    "res = personal_features.as_dict()\n",
    "res2 = person_1_details.as_dict()\n",
    "\n",
    "print(res,res2)\n"
   ]
  },
  {
   "cell_type": "code",
   "execution_count": 7,
   "metadata": {},
   "outputs": [
    {
     "name": "stdout",
     "output_type": "stream",
     "text": [
      "<class 'type'>\n"
     ]
    }
   ],
   "source": [
    "print(type(personal_details))"
   ]
  },
  {
   "cell_type": "code",
   "execution_count": 8,
   "metadata": {},
   "outputs": [
    {
     "name": "stdout",
     "output_type": "stream",
     "text": [
      "('09-04-1991', 'Green', 109)\n"
     ]
    }
   ],
   "source": [
    "c = person_1_details+person_1_features\n",
    "print(c)"
   ]
  },
  {
   "cell_type": "code",
   "execution_count": 10,
   "metadata": {},
   "outputs": [
    {
     "name": "stdout",
     "output_type": "stream",
     "text": [
      "Person(eye_color='Green', iq_score=109, date_of_birth='09-04-1991')\n"
     ]
    }
   ],
   "source": [
    "from collections import namedtuple\n",
    "import collections\n",
    "from functools import reduce\n",
    "\n",
    "def join(*args):\n",
    "    all_attributes = {}\n",
    "\n",
    "    for i in args:\n",
    "        all_attributes.update(i._asdict())\n",
    "\n",
    "    Person = namedtuple('Person', all_attributes.keys())\n",
    "    person = Person(**all_attributes)\n",
    "\n",
    "    return person\n",
    "\n",
    "print(join(person_1_features, person_1_details))"
   ]
  },
  {
   "cell_type": "code",
   "execution_count": null,
   "metadata": {},
   "outputs": [],
   "source": []
  }
 ],
 "metadata": {
  "kernelspec": {
   "display_name": "Python 3",
   "language": "python",
   "name": "python3"
  },
  "language_info": {
   "codemirror_mode": {
    "name": "ipython",
    "version": 3
   },
   "file_extension": ".py",
   "mimetype": "text/x-python",
   "name": "python",
   "nbconvert_exporter": "python",
   "pygments_lexer": "ipython3",
   "version": "3.7.3"
  }
 },
 "nbformat": 4,
 "nbformat_minor": 2
}
