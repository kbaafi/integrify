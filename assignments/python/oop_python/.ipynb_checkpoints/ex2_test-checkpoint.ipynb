{
 "cells": [
  {
   "cell_type": "code",
   "execution_count": 12,
   "metadata": {},
   "outputs": [],
   "source": [
    "from comparer import *\n",
    "from decorators import *\n",
    "from employee import *\n",
    "from personal_info import *\n",
    "from videoapp import *"
   ]
  },
  {
   "cell_type": "markdown",
   "metadata": {},
   "source": [
    "## Testing VideoApp"
   ]
  },
  {
   "cell_type": "code",
   "execution_count": 13,
   "metadata": {},
   "outputs": [
    {
     "name": "stdout",
     "output_type": "stream",
     "text": [
      " Employee\n",
      "            firstName: Ken\n",
      "            lastName: Brockman\n",
      "            rank: 3\n",
      "            salary: 3\n",
      "            email: \n",
      "            number of employees: 7\n",
      "        \n",
      " Employee\n",
      "            firstName: None\n",
      "            lastName: None\n",
      "            rank: 0\n",
      "            salary: 0\n",
      "            email: \n",
      "            number of employees: 4\n",
      "        \n"
     ]
    },
    {
     "data": {
      "text/plain": [
       "False"
      ]
     },
     "execution_count": 13,
     "metadata": {},
     "output_type": "execute_result"
    }
   ],
   "source": [
    "ken = Employee(\"Ken\",\"Brockman\",3,3)\n",
    "print(ken)\n",
    "\n",
    "eddy = Employee.__init_cls__(4)\n",
    "print(eddy)\n",
    "\n",
    "Employee.is_even_or_odd(5)"
   ]
  },
  {
   "cell_type": "code",
   "execution_count": 14,
   "metadata": {},
   "outputs": [
    {
     "ename": "ValueError",
     "evalue": "Input out of bounds. Expecting a number between 0 and 6",
     "output_type": "error",
     "traceback": [
      "\u001b[0;31m---------------------------------------------------------------------------\u001b[0m",
      "\u001b[0;31mValueError\u001b[0m                                Traceback (most recent call last)",
      "\u001b[0;32m<ipython-input-14-76196fe616a8>\u001b[0m in \u001b[0;36m<module>\u001b[0;34m\u001b[0m\n\u001b[0;32m----> 1\u001b[0;31m \u001b[0mEmployee\u001b[0m\u001b[0;34m.\u001b[0m\u001b[0mis_even_or_odd\u001b[0m\u001b[0;34m(\u001b[0m\u001b[0;36m8\u001b[0m\u001b[0;34m)\u001b[0m\u001b[0;34m\u001b[0m\u001b[0;34m\u001b[0m\u001b[0m\n\u001b[0m",
      "\u001b[0;32m~/integrify_ml/oop-python/employee.py\u001b[0m in \u001b[0;36mis_even_or_odd\u001b[0;34m(day)\u001b[0m\n\u001b[1;32m     27\u001b[0m     \u001b[0;32mdef\u001b[0m \u001b[0mis_even_or_odd\u001b[0m\u001b[0;34m(\u001b[0m\u001b[0mday\u001b[0m\u001b[0;34m)\u001b[0m\u001b[0;34m:\u001b[0m\u001b[0;34m\u001b[0m\u001b[0;34m\u001b[0m\u001b[0m\n\u001b[1;32m     28\u001b[0m         \u001b[0;32mif\u001b[0m \u001b[0mday\u001b[0m \u001b[0;34m<\u001b[0m \u001b[0;36m0\u001b[0m \u001b[0;32mor\u001b[0m \u001b[0mday\u001b[0m \u001b[0;34m>\u001b[0m \u001b[0;36m6\u001b[0m\u001b[0;34m:\u001b[0m\u001b[0;34m\u001b[0m\u001b[0;34m\u001b[0m\u001b[0m\n\u001b[0;32m---> 29\u001b[0;31m             \u001b[0;32mraise\u001b[0m \u001b[0mValueError\u001b[0m\u001b[0;34m(\u001b[0m\u001b[0;34m\"Input out of bounds. Expecting a number between 0 and 6\"\u001b[0m\u001b[0;34m)\u001b[0m\u001b[0;34m\u001b[0m\u001b[0;34m\u001b[0m\u001b[0m\n\u001b[0m\u001b[1;32m     30\u001b[0m         \u001b[0;32mif\u001b[0m \u001b[0mday\u001b[0m \u001b[0;34m%\u001b[0m \u001b[0;36m2\u001b[0m \u001b[0;34m==\u001b[0m \u001b[0;36m0\u001b[0m\u001b[0;34m:\u001b[0m\u001b[0;34m\u001b[0m\u001b[0;34m\u001b[0m\u001b[0m\n\u001b[1;32m     31\u001b[0m             \u001b[0mprint\u001b[0m\u001b[0;34m(\u001b[0m\u001b[0;34m\"True\"\u001b[0m\u001b[0;34m)\u001b[0m\u001b[0;34m\u001b[0m\u001b[0;34m\u001b[0m\u001b[0m\n",
      "\u001b[0;31mValueError\u001b[0m: Input out of bounds. Expecting a number between 0 and 6"
     ]
    }
   ],
   "source": [
    "Employee.is_even_or_odd(8)"
   ]
  },
  {
   "cell_type": "code",
   "execution_count": 15,
   "metadata": {},
   "outputs": [
    {
     "name": "stdout",
     "output_type": "stream",
     "text": [
      " Employee\n",
      "            firstName: Ken\n",
      "            lastName: Brockman\n",
      "            rank: 4\n",
      "            salary: 3\n",
      "            email: \n",
      "            number of employees: 4\n",
      "        \n"
     ]
    }
   ],
   "source": [
    "ken.promote()\n",
    "print(ken)"
   ]
  },
  {
   "cell_type": "code",
   "execution_count": 16,
   "metadata": {},
   "outputs": [
    {
     "name": "stdout",
     "output_type": "stream",
     "text": [
      " Employee\n",
      "            firstName: Ken\n",
      "            lastName: Brockman\n",
      "            rank: 4\n",
      "            salary: 5003\n",
      "            email: \n",
      "            number of employees: 4\n",
      "        \n"
     ]
    }
   ],
   "source": [
    "ken.raise_salary(5000)\n",
    "print(ken)"
   ]
  },
  {
   "cell_type": "code",
   "execution_count": 17,
   "metadata": {},
   "outputs": [
    {
     "name": "stdout",
     "output_type": "stream",
     "text": [
      " Employee\n",
      "            firstName: Bella\n",
      "            lastName: Lobbo\n",
      "            rank: 4\n",
      "            salary: 3\n",
      "            email: \n",
      "            number of employees: 5\n",
      "         dances ['chacah', 'tango']\n"
     ]
    }
   ],
   "source": [
    "bella = Ballerina(\"Bella\",\"Lobbo\",3,4,[\"chacah\",\"tango\"])\n",
    "print(bella)"
   ]
  },
  {
   "cell_type": "code",
   "execution_count": 18,
   "metadata": {},
   "outputs": [
    {
     "name": "stdout",
     "output_type": "stream",
     "text": [
      "\n",
      "    Ballerina class\n",
      "    \n",
      "\n",
      "    Employee class\n",
      "    \n"
     ]
    }
   ],
   "source": [
    "print(bella.__doc__)\n",
    "print(ken.__doc__)"
   ]
  },
  {
   "cell_type": "code",
   "execution_count": 19,
   "metadata": {},
   "outputs": [
    {
     "name": "stdout",
     "output_type": "stream",
     "text": [
      "5\n",
      " Employee\n",
      "            firstName: Bella\n",
      "            lastName: Lobbo\n",
      "            rank: 4\n",
      "            salary: 3\n",
      "            email: \n",
      "            number of employees: 5\n",
      "         dances ['chacah', 'tango']\n",
      "7\n",
      "5\n",
      " Employee\n",
      "            firstName: Ken\n",
      "            lastName: Brockman\n",
      "            rank: 4\n",
      "            salary: 5003\n",
      "            email: \n",
      "            number of employees: 6\n",
      "        \n",
      "6\n"
     ]
    }
   ],
   "source": [
    "print(Ballerina.employee_count)\n",
    "Ballerina.increment_count()\n",
    "print(bella)\n",
    "print(Ballerina.employee_count)\n",
    "\n",
    "print(Employee.employee_count)\n",
    "Employee.increment_count()\n",
    "print(ken)\n",
    "print(Employee.employee_count)"
   ]
  },
  {
   "cell_type": "markdown",
   "metadata": {},
   "source": [
    "## Testing Video App"
   ]
  },
  {
   "cell_type": "code",
   "execution_count": 20,
   "metadata": {},
   "outputs": [
    {
     "name": "stdout",
     "output_type": "stream",
     "text": [
      "Video App\n",
      "            username: Chris\n",
      "            company: Integrify\n",
      "            number of participants: 2\n",
      "            \n"
     ]
    }
   ],
   "source": [
    "vidApp = VideoApp(\"Chris\",\"Integrify\")\n",
    "print(vidApp)"
   ]
  },
  {
   "cell_type": "code",
   "execution_count": 21,
   "metadata": {},
   "outputs": [
    {
     "ename": "AttributeError",
     "evalue": "type object 'VideoApp' has no attribute '__status'",
     "output_type": "error",
     "traceback": [
      "\u001b[0;31m---------------------------------------------------------------------------\u001b[0m",
      "\u001b[0;31mAttributeError\u001b[0m                            Traceback (most recent call last)",
      "\u001b[0;32m<ipython-input-21-2c8329d57875>\u001b[0m in \u001b[0;36m<module>\u001b[0;34m\u001b[0m\n\u001b[0;32m----> 1\u001b[0;31m \u001b[0mVideoApp\u001b[0m\u001b[0;34m.\u001b[0m\u001b[0m__status\u001b[0m\u001b[0;34m(\u001b[0m\u001b[0;34m\"drink\"\u001b[0m\u001b[0;34m)\u001b[0m\u001b[0;34m\u001b[0m\u001b[0;34m\u001b[0m\u001b[0m\n\u001b[0m",
      "\u001b[0;31mAttributeError\u001b[0m: type object 'VideoApp' has no attribute '__status'"
     ]
    }
   ],
   "source": [
    "VideoApp.status(\"drink\")"
   ]
  },
  {
   "cell_type": "code",
   "execution_count": 22,
   "metadata": {},
   "outputs": [
    {
     "ename": "AttributeError",
     "evalue": "type object 'VideoApp' has no attribute '__status'",
     "output_type": "error",
     "traceback": [
      "\u001b[0;31m---------------------------------------------------------------------------\u001b[0m",
      "\u001b[0;31mAttributeError\u001b[0m                            Traceback (most recent call last)",
      "\u001b[0;32m<ipython-input-22-2c8329d57875>\u001b[0m in \u001b[0;36m<module>\u001b[0;34m\u001b[0m\n\u001b[0;32m----> 1\u001b[0;31m \u001b[0mVideoApp\u001b[0m\u001b[0;34m.\u001b[0m\u001b[0m__status\u001b[0m\u001b[0;34m(\u001b[0m\u001b[0;34m\"drink\"\u001b[0m\u001b[0;34m)\u001b[0m\u001b[0;34m\u001b[0m\u001b[0;34m\u001b[0m\u001b[0m\n\u001b[0m",
      "\u001b[0;31mAttributeError\u001b[0m: type object 'VideoApp' has no attribute '__status'"
     ]
    }
   ],
   "source": [
    "VideoApp.__status(\"drink\")"
   ]
  },
  {
   "cell_type": "code",
   "execution_count": null,
   "metadata": {},
   "outputs": [],
   "source": []
  },
  {
   "cell_type": "code",
   "execution_count": null,
   "metadata": {},
   "outputs": [],
   "source": []
  },
  {
   "cell_type": "code",
   "execution_count": null,
   "metadata": {},
   "outputs": [],
   "source": []
  }
 ],
 "metadata": {
  "kernelspec": {
   "display_name": "Python 3",
   "language": "python",
   "name": "python3"
  },
  "language_info": {
   "codemirror_mode": {
    "name": "ipython",
    "version": 3
   },
   "file_extension": ".py",
   "mimetype": "text/x-python",
   "name": "python",
   "nbconvert_exporter": "python",
   "pygments_lexer": "ipython3",
   "version": "3.7.3"
  }
 },
 "nbformat": 4,
 "nbformat_minor": 2
}
