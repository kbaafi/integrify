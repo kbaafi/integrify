{
 "cells": [
  {
   "cell_type": "code",
   "execution_count": 3,
   "metadata": {},
   "outputs": [],
   "source": [
    "import numpy as np"
   ]
  },
  {
   "cell_type": "markdown",
   "metadata": {},
   "source": [
    "# Arrays\n",
    "\n",
    "In this section we look at how to initialize numpy arrays from regular python lists and ranges and also how to convert them back to python lists. The statement `np.array(python_list)` creates a numpy array from a python list. We can also check properties of the list using numpy functions such as `size()`, `ndim` and `shape` which return the number of elements in the array, the number of dimensions and the dimensions of the array respectively"
   ]
  },
  {
   "cell_type": "code",
   "execution_count": 4,
   "metadata": {},
   "outputs": [
    {
     "name": "stdout",
     "output_type": "stream",
     "text": [
      "[1 2 3 4 5 6]\n",
      "[[1 2 3 4]\n",
      " [1 2 3 4]]\n",
      "[[1, 2, 3, 4], [1, 2, 3, 4]]\n"
     ]
    }
   ],
   "source": [
    "data = [1,2,3,4,5,6]\n",
    "arr1 = np.array(data)\n",
    "print(arr1)\n",
    "data2 = [range(1,5),range(1,5)]\n",
    "arr2 = np.array(data2)\n",
    "print(arr2)\n",
    "l_arr2 = arr2.tolist()\n",
    "print(l_arr2)"
   ]
  },
  {
   "cell_type": "code",
   "execution_count": 5,
   "metadata": {},
   "outputs": [
    {
     "name": "stdout",
     "output_type": "stream",
     "text": [
      "(2, 4)\n"
     ]
    }
   ],
   "source": [
    "print(arr2.shape)"
   ]
  },
  {
   "cell_type": "code",
   "execution_count": 7,
   "metadata": {},
   "outputs": [
    {
     "name": "stdout",
     "output_type": "stream",
     "text": [
      "[1, 2, 3, 4]\n"
     ]
    }
   ],
   "source": [
    "d = [*range(1,5)]\n",
    "print(d)"
   ]
  },
  {
   "cell_type": "markdown",
   "metadata": {},
   "source": [
    "## Special Arrays\n",
    "\n",
    "Special arrays like `np.zeros((dims))` will create an ndim array filled with zeros. `np.oness((dims))` will create an ndim array populated with ones. `linspace(0,1,5)` will create a set of 5 points on a linear scale between 0 and 1. `logspace(0,3,4)` will create a set of 4 points on a log scale between 10^0 and 10^3"
   ]
  },
  {
   "cell_type": "code",
   "execution_count": 14,
   "metadata": {},
   "outputs": [
    {
     "name": "stdout",
     "output_type": "stream",
     "text": [
      "zeros, 10\n",
      "[0. 0. 0. 0. 0. 0. 0. 0. 0. 0.]\n",
      "\n",
      "zeros, 3 by 6\n",
      "[[0. 0. 0. 0. 0. 0.]\n",
      " [0. 0. 0. 0. 0. 0.]\n",
      " [0. 0. 0. 0. 0. 0.]]\n",
      "\n",
      "ones 10\n",
      "[1. 1. 1. 1. 1. 1. 1. 1. 1. 1.]\n",
      "\n",
      "linspace 0,1,5: 5 points on linear scale between 0 and 1\n",
      "[0.   0.25 0.5  0.75 1.  ]\n",
      "\n",
      "logspace 0,3,4: 4 points on log scale between 10^0 and 10^3\n",
      "[   1.   10.  100. 1000.]\n"
     ]
    }
   ],
   "source": [
    "print(\"zeros, 10\")\n",
    "print(np.zeros(10))\n",
    "print(\"\\nzeros, 3 by 6\")\n",
    "print(np.zeros((3, 6)))\n",
    "print(\"\\nones 10\")\n",
    "print(np.ones(10))\n",
    "print(\"\\nlinspace 0,1,5: 5 points on linear scale between 0 and 1\")\n",
    "print(np.linspace(0,1,5))\n",
    "print(\"\\nlogspace 0,3,4: 4 points on log scale between 10^0 and 10^3\")\n",
    "print(np.logspace(0,3,4))"
   ]
  },
  {
   "cell_type": "markdown",
   "metadata": {},
   "source": [
    "## Arange\n",
    "\n",
    "Builds a numpy array composed of a range of integers"
   ]
  },
  {
   "cell_type": "code",
   "execution_count": 17,
   "metadata": {},
   "outputs": [
    {
     "name": "stdout",
     "output_type": "stream",
     "text": [
      "float array: [0. 1. 2. 3. 4.]\n"
     ]
    }
   ],
   "source": [
    "int_array = np.arange(5)\n",
    "int_array\n",
    "float_array = int_array.astype(float)\n",
    "print(f\"float array: {float_array}\")\n",
    "print"
   ]
  },
  {
   "cell_type": "code",
   "execution_count": 21,
   "metadata": {},
   "outputs": [
    {
     "name": "stdout",
     "output_type": "stream",
     "text": [
      "int64\n",
      "float64\n",
      "<class 'numpy.ndarray'>\n",
      "2\n",
      "2\n",
      "(2, 4)\n"
     ]
    }
   ],
   "source": [
    "print(arr2.dtype)\n",
    "print(float_array.dtype)\n",
    "print(type(float_array))\n",
    "print(arr2.ndim)\n",
    "print(arr2.ndim)\n",
    "print(arr2.shape)"
   ]
  },
  {
   "cell_type": "code",
   "execution_count": 22,
   "metadata": {},
   "outputs": [
    {
     "name": "stdout",
     "output_type": "stream",
     "text": [
      "8\n",
      "2\n"
     ]
    }
   ],
   "source": [
    "# Total number of elements in an np array\n",
    "print(arr2.size)\n",
    "\n",
    "# Size of 1st dimension or axis\n",
    "print(len(arr2))"
   ]
  },
  {
   "cell_type": "markdown",
   "metadata": {},
   "source": [
    "## Reshaping Arrays\n",
    "\n",
    "`np_array.reshape(x,y)` will create a new array from `np_array` with the shape `(x,y)`. The product`x*y` must be equal to `np_array.size()`. `np_array.T` will create a transpose of `np_array`. `np_array.flatten` will create a one dimensional array from `np_array`. `np_array.ravel()` performs the same function"
   ]
  },
  {
   "cell_type": "code",
   "execution_count": 23,
   "metadata": {},
   "outputs": [
    {
     "name": "stdout",
     "output_type": "stream",
     "text": [
      "[[0. 1. 2. 3. 4.]\n",
      " [5. 6. 7. 8. 9.]]\n",
      "[[0. 1.]\n",
      " [2. 3.]\n",
      " [4. 5.]\n",
      " [6. 7.]\n",
      " [8. 9.]]\n"
     ]
    }
   ],
   "source": [
    "init_arr = np.arange(10,dtype=float)\n",
    "rs_arr = init_arr.reshape(2,5)\n",
    "rs_arr2 = init_arr.reshape(5,2)\n",
    "print(rs_arr)\n",
    "print(rs_arr2)"
   ]
  },
  {
   "cell_type": "code",
   "execution_count": 36,
   "metadata": {},
   "outputs": [
    {
     "name": "stdout",
     "output_type": "stream",
     "text": [
      "(4,)\n",
      "1\n",
      "[[0 1 2 3]]\n",
      "(1, 4)\n",
      "2\n"
     ]
    }
   ],
   "source": [
    "a = np.array([0,1,2,3])\n",
    "print(a.shape)\n",
    "print(a.ndim)\n",
    "a_col = a[np.newaxis,:]\n",
    "print(a_col)\n",
    "print(a_col.shape)\n",
    "print(a_col.ndim)"
   ]
  },
  {
   "cell_type": "code",
   "execution_count": 37,
   "metadata": {},
   "outputs": [
    {
     "data": {
      "text/plain": [
       "array([[0],\n",
       "       [1],\n",
       "       [2],\n",
       "       [3]])"
      ]
     },
     "execution_count": 37,
     "metadata": {},
     "output_type": "execute_result"
    }
   ],
   "source": [
    "a_tran = a_col.T\n",
    "a_tran"
   ]
  },
  {
   "cell_type": "code",
   "execution_count": 38,
   "metadata": {},
   "outputs": [
    {
     "data": {
      "text/plain": [
       "array([1, 2, 3, 4, 1, 2, 3, 4])"
      ]
     },
     "execution_count": 38,
     "metadata": {},
     "output_type": "execute_result"
    }
   ],
   "source": [
    "flat = arr2.flatten()\n",
    "flat"
   ]
  },
  {
   "cell_type": "code",
   "execution_count": 40,
   "metadata": {},
   "outputs": [
    {
     "data": {
      "text/plain": [
       "array([1, 2, 3, 4, 1, 2, 3, 4])"
      ]
     },
     "execution_count": 40,
     "metadata": {},
     "output_type": "execute_result"
    }
   ],
   "source": [
    "flat2 = arr2.ravel()\n",
    "flat2"
   ]
  },
  {
   "cell_type": "code",
   "execution_count": 45,
   "metadata": {},
   "outputs": [
    {
     "name": "stdout",
     "output_type": "stream",
     "text": [
      "[[33.  1.  2.  3.  4.]\n",
      " [ 5.  6.  7.  8.  9.]]\n"
     ]
    }
   ],
   "source": [
    "arr = np.array([[33., 1., 2.,3. ,4.],[5., 6., 7., 8., 9.]])\n",
    "print(arr)"
   ]
  },
  {
   "cell_type": "markdown",
   "metadata": {},
   "source": [
    "### Stacking arrays\n",
    "\n",
    "Stacking offers a method of concatenating arrays. `np.stack(array1,array2)` builds a numpy array by making a row out of array1 and array2 and then joining those rows together. `np.hstack(a,b)` creates an n by 1 array where n is the combined number of elements of a and b. "
   ]
  },
  {
   "cell_type": "code",
   "execution_count": 46,
   "metadata": {},
   "outputs": [
    {
     "data": {
      "text/plain": [
       "array([[0, 1],\n",
       "       [2, 3]])"
      ]
     },
     "execution_count": 46,
     "metadata": {},
     "output_type": "execute_result"
    }
   ],
   "source": [
    "a = np.array([0,1])\n",
    "b = np.array([2,3])\n",
    "ab=np.stack((a,b))\n",
    "ab"
   ]
  },
  {
   "cell_type": "code",
   "execution_count": 47,
   "metadata": {},
   "outputs": [
    {
     "data": {
      "text/plain": [
       "array([0, 1, 2, 3])"
      ]
     },
     "execution_count": 47,
     "metadata": {},
     "output_type": "execute_result"
    }
   ],
   "source": [
    "ab = np.hstack((a,b))\n",
    "ab"
   ]
  },
  {
   "cell_type": "code",
   "execution_count": 49,
   "metadata": {},
   "outputs": [
    {
     "data": {
      "text/plain": [
       "array([[0, 1],\n",
       "       [2, 3]])"
      ]
     },
     "execution_count": 49,
     "metadata": {},
     "output_type": "execute_result"
    }
   ],
   "source": [
    "ab = np.vstack((a,b))\n",
    "ab"
   ]
  },
  {
   "cell_type": "markdown",
   "metadata": {},
   "source": [
    "## Selection\n",
    "\n",
    "`np_array[x,y]` returns the element at location row=x, col=y of the `np_array`"
   ]
  },
  {
   "cell_type": "code",
   "execution_count": 53,
   "metadata": {},
   "outputs": [
    {
     "name": "stdout",
     "output_type": "stream",
     "text": [
      "[0. 1. 2. 3. 4.]\n",
      "3.0\n",
      "3.0\n"
     ]
    }
   ],
   "source": [
    "arr = np.arange(10,dtype=float).reshape((2,5))\n",
    "print(arr[0])\n",
    "print(arr[0,3])\n",
    "print(arr[0][3])"
   ]
  },
  {
   "cell_type": "markdown",
   "metadata": {},
   "source": [
    "### Slicing\n",
    "\n",
    "Allows the user to select a subset of the array"
   ]
  },
  {
   "cell_type": "code",
   "execution_count": 64,
   "metadata": {},
   "outputs": [
    {
     "name": "stdout",
     "output_type": "stream",
     "text": [
      "\n",
      "row 0 [0. 1. 2. 3. 4.]\n",
      "\n",
      "col 0 [0. 5.]\n",
      "\n",
      "cols 0-2 without 2\n",
      " [[0. 1.]\n",
      " [5. 6.]]\n",
      "\n",
      "cols 2 to end \n",
      " [[2. 3. 4.]\n",
      " [7. 8. 9.]]\n",
      "\n",
      "cols between 1 and 4, 1 included 4 excluded \n",
      " [[1. 2. 3.]\n",
      " [6. 7. 8.]]\n"
     ]
    }
   ],
   "source": [
    "print(\"\\nrow 0\",arr[0,:])\n",
    "print(\"\\ncol 0\",arr[:,0])\n",
    "print(\"\\ncols 0-2 without 2\\n\",arr[:,:2])\n",
    "print(\"\\ncols 2 to end \\n\",arr[:,2:])\n",
    "print(\"\\ncols between 1 and 4, 1 included 4 excluded \\n\",arr[:,1:4])"
   ]
  },
  {
   "cell_type": "markdown",
   "metadata": {},
   "source": [
    "### Fancy Indexing"
   ]
  },
  {
   "cell_type": "code",
   "execution_count": 68,
   "metadata": {},
   "outputs": [
    {
     "name": "stdout",
     "output_type": "stream",
     "text": [
      "[[1. 2. 3.]\n",
      " [6. 7. 8.]]\n",
      "[[44.  2.  3.]\n",
      " [ 6.  7.  8.]] \n",
      " [[0. 1. 2. 3. 4.]\n",
      " [5. 6. 7. 8. 9.]]\n"
     ]
    }
   ],
   "source": [
    "arr2 = arr[:,[1,2,3]]\n",
    "print(arr2)\n",
    "arr2[0,0]=44\n",
    "print(arr2,\"\\n\",arr)"
   ]
  },
  {
   "cell_type": "code",
   "execution_count": 73,
   "metadata": {},
   "outputs": [
    {
     "name": "stdout",
     "output_type": "stream",
     "text": [
      "[False False False False False False  True  True  True  True]\n",
      "[6 7 8 9]\n",
      "[0 0 0 0 0 5 6 7 8 9]\n"
     ]
    }
   ],
   "source": [
    "a = np.arange(0,10)\n",
    "a2 = a>5\n",
    "print(a2)\n",
    "print(a[a2])\n",
    "a[a<5]=0\n",
    "print(a)"
   ]
  },
  {
   "cell_type": "markdown",
   "metadata": {},
   "source": [
    "### Boolean Indexing"
   ]
  },
  {
   "cell_type": "code",
   "execution_count": 84,
   "metadata": {},
   "outputs": [
    {
     "name": "stdout",
     "output_type": "stream",
     "text": [
      "['Joe' 'Will']\n",
      "['Bob' 'Will' 'Bob']\n",
      "['Bob' 'Joe']\n"
     ]
    }
   ],
   "source": [
    "n = np.array(['Bob','Joe','Will','Bob'])\n",
    "n=='Bob'\n",
    "print(n[n!='Bob'])\n",
    "print(n[(n=='Bob') | (n=='Will')])\n",
    "names[n != 'Bob']='Joe'\n",
    "print(np.unique(n))"
   ]
  },
  {
   "cell_type": "markdown",
   "metadata": {},
   "source": [
    "## Vectorized Ops"
   ]
  },
  {
   "cell_type": "code",
   "execution_count": 81,
   "metadata": {},
   "outputs": [
    {
     "name": "stdout",
     "output_type": "stream",
     "text": [
      "[ 0 10 20 30 40]\n",
      "[0. 1. 2. 2. 2.]\n",
      "[False False False False False]\n",
      "[0.         2.         3.41421356 4.73205081 6.        ]\n"
     ]
    },
    {
     "data": {
      "text/plain": [
       "array([1.        , 2.        , 3.41421356, 4.73205081, 6.        ])"
      ]
     },
     "execution_count": 81,
     "metadata": {},
     "output_type": "execute_result"
    }
   ],
   "source": [
    "nums = np.arange(5)\n",
    "print(nums*10)\n",
    "nums = np.sqrt(nums)\n",
    "print(np.ceil(nums))\n",
    "print(np.isnan(nums))\n",
    "nums = nums + np.arange(5)\n",
    "print(nums)\n",
    "np.maximum(nums, np.array([1,-2,3,-4,5]))"
   ]
  },
  {
   "cell_type": "markdown",
   "metadata": {},
   "source": [
    "### Euclidean Distance"
   ]
  },
  {
   "cell_type": "code",
   "execution_count": 82,
   "metadata": {},
   "outputs": [
    {
     "name": "stdout",
     "output_type": "stream",
     "text": [
      "3.773937861396542\n"
     ]
    }
   ],
   "source": [
    "vec1 = np.random.randn(10)\n",
    "vec2 = np.random.randn(10)\n",
    "dist = np.sqrt(np.sum((vec1-vec2)**2))\n",
    "print(dist)"
   ]
  },
  {
   "cell_type": "markdown",
   "metadata": {},
   "source": [
    "# Exercise"
   ]
  },
  {
   "cell_type": "code",
   "execution_count": 115,
   "metadata": {},
   "outputs": [
    {
     "name": "stdout",
     "output_type": "stream",
     "text": [
      "[[-1.12069474 -0.32445232]\n",
      " [-0.22377878  0.20347834]\n",
      " [ 1.41246264  0.88253277]\n",
      " [-0.64178833  0.66937819]]\n"
     ]
    }
   ],
   "source": [
    "X = np.random.randn(4,2)\n",
    "print(X)"
   ]
  },
  {
   "cell_type": "code",
   "execution_count": 116,
   "metadata": {},
   "outputs": [],
   "source": [
    "def standardize(X):\n",
    "    mean = np.mean(X,axis=0)\n",
    "    std = np.std(X,axis=0)\n",
    "    standardized = (X-mean)/std\n",
    "    return standardized"
   ]
  },
  {
   "cell_type": "code",
   "execution_count": 117,
   "metadata": {},
   "outputs": [
    {
     "name": "stdout",
     "output_type": "stream",
     "text": [
      "[[-1.02574715 -1.46978187]\n",
      " [-0.08431583 -0.3323468 ]\n",
      " [ 1.63313485  1.13068681]\n",
      " [-0.52307186  0.67144187]]\n"
     ]
    }
   ],
   "source": [
    "standardized_x = standardize(X)\n",
    "print(standardized_x)"
   ]
  },
  {
   "cell_type": "code",
   "execution_count": null,
   "metadata": {},
   "outputs": [],
   "source": []
  },
  {
   "cell_type": "code",
   "execution_count": null,
   "metadata": {},
   "outputs": [],
   "source": []
  }
 ],
 "metadata": {
  "kernelspec": {
   "display_name": "Python 3",
   "language": "python",
   "name": "python3"
  },
  "language_info": {
   "codemirror_mode": {
    "name": "ipython",
    "version": 3
   },
   "file_extension": ".py",
   "mimetype": "text/x-python",
   "name": "python",
   "nbconvert_exporter": "python",
   "pygments_lexer": "ipython3",
   "version": "3.7.3"
  }
 },
 "nbformat": 4,
 "nbformat_minor": 2
}
