{
 "cells": [
  {
   "cell_type": "code",
   "execution_count": 34,
   "metadata": {},
   "outputs": [],
   "source": [
    "import pandas as pd\n",
    "import matplotlib.pyplot as plt\n",
    "import math\n",
    "from collections import Counter\n",
    "from functools import wraps\n",
    "import numpy as np"
   ]
  },
  {
   "cell_type": "markdown",
   "metadata": {},
   "source": [
    "# List to PMF"
   ]
  },
  {
   "cell_type": "code",
   "execution_count": 21,
   "metadata": {},
   "outputs": [],
   "source": [
    "def sorted_dictionary(func):\n",
    "    @wraps(func)\n",
    "    def inner(*args,**kwargs):\n",
    "        return dict(sorted(func(*args,**kwargs).items()))\n",
    "    return inner"
   ]
  },
  {
   "cell_type": "code",
   "execution_count": 22,
   "metadata": {},
   "outputs": [],
   "source": [
    "@sorted_dictionary\n",
    "def list_to_pmf(series):\n",
    "    n = len(series)\n",
    "    d = {}\n",
    "    counts = Counter(series)\n",
    "    for _, key in enumerate(counts):\n",
    "        d[key] = counts[key]/n\n",
    "    return d"
   ]
  },
  {
   "cell_type": "markdown",
   "metadata": {},
   "source": [
    "### 4b"
   ]
  },
  {
   "cell_type": "code",
   "execution_count": 81,
   "metadata": {},
   "outputs": [],
   "source": [
    "@sorted_dictionary\n",
    "def list_to_pmf_2(series):\n",
    "    n = len(series)\n",
    "    d = {}\n",
    "    for i in series:\n",
    "        if i in d.keys():\n",
    "            d[i]+=1/n\n",
    "        else:\n",
    "            d[i]=1/n\n",
    "    return d"
   ]
  },
  {
   "cell_type": "code",
   "execution_count": null,
   "metadata": {},
   "outputs": [],
   "source": []
  },
  {
   "cell_type": "markdown",
   "metadata": {},
   "source": [
    "### Plotting the PMF"
   ]
  },
  {
   "cell_type": "code",
   "execution_count": 90,
   "metadata": {},
   "outputs": [],
   "source": [
    "a = np.random.randint(10,size=(1,10))[0]"
   ]
  },
  {
   "cell_type": "code",
   "execution_count": 93,
   "metadata": {},
   "outputs": [
    {
     "data": {
      "image/png": "[encoded data removed]",
      "text/plain": [
       "<Figure size 432x288 with 1 Axes>"
      ]
     },
     "metadata": {
      "needs_background": "light"
     },
     "output_type": "display_data"
    }
   ],
   "source": [
    "\n",
    "pmf = list_to_pmf_2(a)\n",
    "\n",
    "_ = plt.bar(range(len(pmf)), list(pmf.values()))\n",
    "_ = plt.xticks(range(len(pmf)), list(pmf.keys()))"
   ]
  },
  {
   "cell_type": "code",
   "execution_count": 92,
   "metadata": {},
   "outputs": [
    {
     "data": {
      "text/plain": [
       "{0: 0.1, 2: 0.1, 3: 0.1, 4: 0.1, 5: 0.2, 8: 0.2, 9: 0.2}"
      ]
     },
     "execution_count": 92,
     "metadata": {},
     "output_type": "execute_result"
    }
   ],
   "source": [
    "pmf"
   ]
  },
  {
   "cell_type": "markdown",
   "metadata": {},
   "source": [
    "# List to CDF"
   ]
  },
  {
   "cell_type": "code",
   "execution_count": 25,
   "metadata": {},
   "outputs": [],
   "source": [
    "def list_to_cdf(series):\n",
    "    pmf = list_to_pmf(series)\n",
    "    cumsum = 0\n",
    "    percentiles = {}\n",
    "    for x,value in pmf.items():\n",
    "        cumsum += value\n",
    "        percentiles[x]=cumsum\n",
    "    return percentiles"
   ]
  },
  {
   "cell_type": "markdown",
   "metadata": {},
   "source": [
    "### Plotting the CDF"
   ]
  },
  {
   "cell_type": "code",
   "execution_count": 94,
   "metadata": {},
   "outputs": [
    {
     "data": {
      "image/png": "[encoded data removed]",
      "text/plain": [
       "<Figure size 432x288 with 1 Axes>"
      ]
     },
     "metadata": {
      "needs_background": "light"
     },
     "output_type": "display_data"
    }
   ],
   "source": [
    "cdf = list_to_cdf(a)\n",
    "_ = plt.plot(range(len(cdf)), list(cdf.values()))\n",
    "_ = plt.xticks(range(len(cdf)), list(cdf.keys()))"
   ]
  },
  {
   "cell_type": "code",
   "execution_count": null,
   "metadata": {},
   "outputs": [],
   "source": [
    "def percentile(N, percent, key=lambda x:x):\n",
    "    \"\"\" \n",
    "    Find the percentile of a list of values. \n",
    "    @parameter N - is a list of values. Note N MUST BE already sorted. \n",
    "    @parameter percent - a float value from 0.0 to 1.0. \n",
    "    @parameter key - optional key function to compute value from each element of N. \n",
    "    @return - the percentile of the values \n",
    "    \"\"\" \n",
    "\n",
    "    if N is None: \n",
    "        return None \n",
    "\n",
    "    k = (len(N)-1) * percent \n",
    "    f = math.floor(k) \n",
    "    c = math.ceil(k) \n",
    "\n",
    "    if f == c:\n",
    "        return key(N[int(k)]) \n",
    "\n",
    "    d0 = key(N[int(f)]) * (c-k)\n",
    "    d1 = key(N[int(c)]) * (k-f) \n",
    "\n",
    "    return (d0+d1)/100."
   ]
  }
 ],
 "metadata": {
  "kernelspec": {
   "display_name": "Python 3",
   "language": "python",
   "name": "python3"
  },
  "language_info": {
   "codemirror_mode": {
    "name": "ipython",
    "version": 3
   },
   "file_extension": ".py",
   "mimetype": "text/x-python",
   "name": "python",
   "nbconvert_exporter": "python",
   "pygments_lexer": "ipython3",
   "version": "3.7.3"
  }
 },
 "nbformat": 4,
 "nbformat_minor": 2
}
