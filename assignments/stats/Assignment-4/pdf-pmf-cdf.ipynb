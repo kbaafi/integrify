{
 "cells": [
  {
   "cell_type": "code",
   "execution_count": 10,
   "metadata": {},
   "outputs": [],
   "source": [
    "import pandas as pd\n",
    "import matplotlib.pyplot as plt\n",
    "import math\n",
    "from collections import Counter\n",
    "from functools import wraps, partial\n",
    "import numpy as np"
   ]
  },
  {
   "cell_type": "markdown",
   "metadata": {},
   "source": [
    "# 4.List to PMF"
   ]
  },
  {
   "cell_type": "code",
   "execution_count": 2,
   "metadata": {},
   "outputs": [],
   "source": [
    "def sorted_dictionary(func):\n",
    "    @wraps(func)\n",
    "    def inner(*args,**kwargs):\n",
    "        return dict(sorted(func(*args,**kwargs).items()))\n",
    "    return inner"
   ]
  },
  {
   "cell_type": "code",
   "execution_count": 3,
   "metadata": {},
   "outputs": [],
   "source": [
    "@sorted_dictionary\n",
    "def list_to_pmf(series):\n",
    "    n = len(series)\n",
    "    d = {}\n",
    "    counts = Counter(series)\n",
    "    for _, key in enumerate(counts):\n",
    "        d[key] = counts[key]/n\n",
    "    return d"
   ]
  },
  {
   "cell_type": "markdown",
   "metadata": {},
   "source": [
    "### 4b"
   ]
  },
  {
   "cell_type": "code",
   "execution_count": 4,
   "metadata": {},
   "outputs": [],
   "source": [
    "@sorted_dictionary\n",
    "def list_to_pmf_2(series):\n",
    "    n = len(series)\n",
    "    d = {}\n",
    "    for i in series:\n",
    "        if i in d.keys():\n",
    "            d[i]+=1/n\n",
    "        else:\n",
    "            d[i]=1/n\n",
    "    return d"
   ]
  },
  {
   "cell_type": "markdown",
   "metadata": {},
   "source": [
    "# 5. Plotting the PMF"
   ]
  },
  {
   "cell_type": "code",
   "execution_count": 44,
   "metadata": {},
   "outputs": [],
   "source": [
    "a = np.random.randint(0,10,size=(1,10)).tolist()[0]"
   ]
  },
  {
   "cell_type": "code",
   "execution_count": 45,
   "metadata": {},
   "outputs": [
    {
     "data": {
      "image/png": "[encoded data removed]",
      "text/plain": [
       "<Figure size 432x288 with 1 Axes>"
      ]
     },
     "metadata": {
      "needs_background": "light"
     },
     "output_type": "display_data"
    }
   ],
   "source": [
    "pmf = list_to_pmf(a)\n",
    "\n",
    "_ = plt.bar(range(len(pmf)), list(pmf.values()))\n",
    "_ = plt.xticks(range(len(pmf)), list(pmf.keys()))"
   ]
  },
  {
   "cell_type": "code",
   "execution_count": 46,
   "metadata": {},
   "outputs": [
    {
     "data": {
      "image/png": "[encoded data removed]",
      "text/plain": [
       "<Figure size 432x288 with 1 Axes>"
      ]
     },
     "metadata": {
      "needs_background": "light"
     },
     "output_type": "display_data"
    }
   ],
   "source": [
    "pmf_df = pd.DataFrame.from_dict(pmf, orient='index')\n",
    "_ = pmf_df.plot.bar()"
   ]
  },
  {
   "cell_type": "markdown",
   "metadata": {},
   "source": [
    "### List to CDF"
   ]
  },
  {
   "cell_type": "code",
   "execution_count": 82,
   "metadata": {},
   "outputs": [],
   "source": [
    "def list_to_cdf(series):\n",
    "    pmf = list_to_pmf(series)\n",
    "    cumsum = 0\n",
    "    percentiles = {}\n",
    "    for x,value in pmf.items():\n",
    "        cumsum += value\n",
    "        percentiles[x]=cumsum\n",
    "    return percentiles"
   ]
  },
  {
   "cell_type": "markdown",
   "metadata": {},
   "source": [
    "### Plotting the CDF"
   ]
  },
  {
   "cell_type": "code",
   "execution_count": 48,
   "metadata": {},
   "outputs": [
    {
     "data": {
      "image/png": "[encoded data removed]",
      "text/plain": [
       "<Figure size 432x288 with 1 Axes>"
      ]
     },
     "metadata": {
      "needs_background": "light"
     },
     "output_type": "display_data"
    }
   ],
   "source": [
    "cdf = list_to_cdf(a)\n",
    "_ = plt.plot(range(len(cdf)), list(cdf.values()))\n",
    "_ = plt.xticks(range(len(cdf)), list(cdf.keys()))"
   ]
  },
  {
   "cell_type": "markdown",
   "metadata": {},
   "source": [
    "# 6. "
   ]
  },
  {
   "cell_type": "markdown",
   "metadata": {},
   "source": [
    "# 7. Percentiles"
   ]
  },
  {
   "cell_type": "code",
   "execution_count": 74,
   "metadata": {},
   "outputs": [],
   "source": [
    "def percentile(percent, samples, key=lambda x:x):\n",
    "    \"\"\" \n",
    "    Find the percentile of a list of values. \n",
    "    @parameter N - is a list of values. Note N MUST BE already sorted. \n",
    "    @parameter percent - a float value from 0.0 to 1.0. \n",
    "    @parameter key - optional key function to compute value from each element of N. \n",
    "    @return - the percentile of the values \n",
    "    \"\"\" \n",
    "\n",
    "    if samples is None: \n",
    "        return None \n",
    "\n",
    "    k = (len(samples)-1) * percent \n",
    "    f = math.floor(k) \n",
    "    c = math.ceil(k) \n",
    "\n",
    "    if f == c:\n",
    "        return key(samples[int(k)]) \n",
    "\n",
    "    d0 = key(samples[int(f)]) * (c-k)\n",
    "    d1 = key(samples[int(c)]) * (k-f)\n",
    "\n",
    "    return (d0+d1)\n",
    "\n",
    "def percentile_2(scores,percentile_rank):\n",
    "    scores.sort()\n",
    "    index = percentile_rank * (len(scores)-1) // 100\n",
    "    return scores[index]\n",
    "\n",
    "def inverse_cdf(samples,prob):\n",
    "    samples.sort()\n",
    "    index = int(prob * (len(samples)-1))\n",
    "    return samples[index]\n",
    "\n",
    "def inverse_cdf_2(cdf_dict, prob):\n",
    "    for k in cdf_dict:\n",
    "        if cdf_dict[k]>=prob:\n",
    "            return k"
   ]
  },
  {
   "cell_type": "markdown",
   "metadata": {},
   "source": [
    "### 25 Percentile"
   ]
  },
  {
   "cell_type": "code",
   "execution_count": 70,
   "metadata": {},
   "outputs": [
    {
     "data": {
      "text/plain": [
       "3.0"
      ]
     },
     "execution_count": 70,
     "metadata": {},
     "output_type": "execute_result"
    }
   ],
   "source": [
    "first_quartile = percentile(0.25,a)\n",
    "first_quartile"
   ]
  },
  {
   "cell_type": "markdown",
   "metadata": {},
   "source": [
    "### 50 Percentile"
   ]
  },
  {
   "cell_type": "code",
   "execution_count": 68,
   "metadata": {},
   "outputs": [
    {
     "data": {
      "text/plain": [
       "5.0"
      ]
     },
     "execution_count": 68,
     "metadata": {},
     "output_type": "execute_result"
    }
   ],
   "source": [
    "second_quartile = inverse_cdf(a,0.75)\n",
    "second_quartile"
   ]
  },
  {
   "cell_type": "markdown",
   "metadata": {},
   "source": [
    "### 75 Percentile"
   ]
  },
  {
   "cell_type": "code",
   "execution_count": 79,
   "metadata": {},
   "outputs": [
    {
     "data": {
      "text/plain": [
       "7"
      ]
     },
     "execution_count": 79,
     "metadata": {},
     "output_type": "execute_result"
    }
   ],
   "source": [
    "third_quartile = inverse_cdf_2(cdf,0.75)\n",
    "third_quartile"
   ]
  },
  {
   "cell_type": "code",
   "execution_count": 80,
   "metadata": {},
   "outputs": [
    {
     "data": {
      "text/plain": [
       "6.75"
      ]
     },
     "execution_count": 80,
     "metadata": {},
     "output_type": "execute_result"
    }
   ],
   "source": [
    "third_quartile = percentile(0.75,a)\n",
    "third_quartile"
   ]
  },
  {
   "cell_type": "code",
   "execution_count": 81,
   "metadata": {},
   "outputs": [
    {
     "data": {
      "text/plain": [
       "{0: 0.1, 1: 0.2, 3: 0.4, 4: 0.5, 6: 0.7, 7: 0.7999999999999999, 8: 1.0}"
      ]
     },
     "execution_count": 81,
     "metadata": {},
     "output_type": "execute_result"
    }
   ],
   "source": [
    "cdf"
   ]
  },
  {
   "cell_type": "markdown",
   "metadata": {},
   "source": [
    "### Comments\n",
    "The x percentile ,i.e , the first number greater than x percent of the sample is the same as the inverse of the CDF function. The inverse CDF calculated from the dictionary output of the CDF function might yeild higher than normal results because  of the binning effect of frequency counts."
   ]
  },
  {
   "cell_type": "markdown",
   "metadata": {},
   "source": [
    "# 8. Partial function for 25 percentile"
   ]
  },
  {
   "cell_type": "code",
   "execution_count": 64,
   "metadata": {},
   "outputs": [
    {
     "data": {
      "text/plain": [
       "3.0"
      ]
     },
     "execution_count": 64,
     "metadata": {},
     "output_type": "execute_result"
    }
   ],
   "source": [
    "first_quartile = partial(percentile,0.25,key=lambda x:x)\n",
    "a.sort()\n",
    "first_quartile(a)"
   ]
  }
 ],
 "metadata": {
  "kernelspec": {
   "display_name": "Python 3",
   "language": "python",
   "name": "python3"
  },
  "language_info": {
   "codemirror_mode": {
    "name": "ipython",
    "version": 3
   },
   "file_extension": ".py",
   "mimetype": "text/x-python",
   "name": "python",
   "nbconvert_exporter": "python",
   "pygments_lexer": "ipython3",
   "version": "3.7.1"
  }
 },
 "nbformat": 4,
 "nbformat_minor": 2
}
