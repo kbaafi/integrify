{
 "cells": [
  {
   "cell_type": "markdown",
   "metadata": {},
   "source": [
    "# 1. How to create a PDF\n",
    "\n",
    "For discrete variables, creating a PDF can only be done through analytical methods, either by inspecting the distribution and fitting a known distribution such as Normal, Log Normal, Exponential etc to the data and testing\n",
    "\n",
    "# 2. How to create a PMF\n",
    "1. Create a frequency table for all unique discrete values in the distribution\n",
    "2. Divide each entry of the frequency table by the number of elements in the distribution\n",
    "\n",
    "\n",
    "# 3. How to a CDF\n",
    "\n",
    "1. Sort the list of values\n",
    "2. Maintain a list of cummulatative sums of the input data starting from the smallest to the largest\n",
    "3. Divide each element of the cummulative sum by the sum of the items of the input data\n",
    "\n",
    "Of these three the most difficult is **1** because we have to resort to analytical methods, fitting and testing to derive a density function for the distribution"
   ]
  },
  {
   "cell_type": "markdown",
   "metadata": {},
   "source": [
    "# 4.List to PMF"
   ]
  },
  {
   "cell_type": "code",
   "execution_count": 3,
   "metadata": {},
   "outputs": [],
   "source": [
    "import pandas as pd\n",
    "import matplotlib.pyplot as plt\n",
    "import math\n",
    "from collections import Counter\n",
    "from functools import wraps, partial\n",
    "import numpy as np"
   ]
  },
  {
   "cell_type": "code",
   "execution_count": 4,
   "metadata": {},
   "outputs": [],
   "source": [
    "def sorted_dictionary(func):\n",
    "    @wraps(func)\n",
    "    def inner(*args,**kwargs):\n",
    "        return dict(sorted(func(*args,**kwargs).items()))\n",
    "    return inner"
   ]
  },
  {
   "cell_type": "code",
   "execution_count": 5,
   "metadata": {},
   "outputs": [],
   "source": [
    "@sorted_dictionary\n",
    "def list_to_pmf(series):\n",
    "    n = len(series)\n",
    "    d = {}\n",
    "    counts = Counter(series)\n",
    "    for _, key in enumerate(counts):\n",
    "        d[key] = counts[key]/n\n",
    "    return d"
   ]
  },
  {
   "cell_type": "markdown",
   "metadata": {},
   "source": [
    "### 4b"
   ]
  },
  {
   "cell_type": "code",
   "execution_count": 6,
   "metadata": {},
   "outputs": [],
   "source": [
    "@sorted_dictionary\n",
    "def list_to_pmf_2(series):\n",
    "    n = len(series)\n",
    "    d = {}\n",
    "    for i in series:\n",
    "        if i in d.keys():\n",
    "            d[i]+=1/n\n",
    "        else:\n",
    "            d[i]=1/n\n",
    "    return d"
   ]
  },
  {
   "cell_type": "markdown",
   "metadata": {},
   "source": [
    "# 5. Plotting the PMF"
   ]
  },
  {
   "cell_type": "code",
   "execution_count": 100,
   "metadata": {},
   "outputs": [],
   "source": [
    "a = np.abs(10*np.random.randn(1, 100)).astype(np.int).tolist()[0]"
   ]
  },
  {
   "cell_type": "code",
   "execution_count": 101,
   "metadata": {},
   "outputs": [
    {
     "data": {
      "text/plain": [
       "<BarContainer object of 100 artists>"
      ]
     },
     "execution_count": 101,
     "metadata": {},
     "output_type": "execute_result"
    },
    {
     "data": {
      "image/png": "[encoded data removed]",
      "text/plain": [
       "<Figure size 432x288 with 1 Axes>"
      ]
     },
     "metadata": {
      "needs_background": "light"
     },
     "output_type": "display_data"
    }
   ],
   "source": [
    "plt.bar(range(len(a)),a)"
   ]
  },
  {
   "cell_type": "code",
   "execution_count": 102,
   "metadata": {},
   "outputs": [
    {
     "data": {
      "image/png": "[encoded data removed]",
      "text/plain": [
       "<Figure size 432x288 with 1 Axes>"
      ]
     },
     "metadata": {
      "needs_background": "light"
     },
     "output_type": "display_data"
    }
   ],
   "source": [
    "pmf = list_to_pmf(a)\n",
    "\n",
    "_ = plt.bar(range(len(pmf)), list(pmf.values()))\n",
    "_ = plt.xticks(range(len(pmf)), list(pmf.keys()))"
   ]
  },
  {
   "cell_type": "code",
   "execution_count": 103,
   "metadata": {},
   "outputs": [
    {
     "data": {
      "image/png": "[encoded data removed]",
      "text/plain": [
       "<Figure size 432x288 with 1 Axes>"
      ]
     },
     "metadata": {
      "needs_background": "light"
     },
     "output_type": "display_data"
    }
   ],
   "source": [
    "pmf_df = pd.DataFrame.from_dict(pmf, orient='index')\n",
    "_ = pmf_df.plot.bar()"
   ]
  },
  {
   "cell_type": "markdown",
   "metadata": {},
   "source": [
    "### List to CDF"
   ]
  },
  {
   "cell_type": "code",
   "execution_count": 120,
   "metadata": {},
   "outputs": [],
   "source": [
    "def list_to_cdf(series):\n",
    "    total = sum(series)\n",
    "    cumsum = 0\n",
    "    probs = []\n",
    "    series.sort()\n",
    "    for x in series:\n",
    "        cumsum += x\n",
    "        probs.append(cumsum/total)\n",
    "    return probs"
   ]
  },
  {
   "cell_type": "markdown",
   "metadata": {},
   "source": [
    "### Plotting the CDF"
   ]
  },
  {
   "cell_type": "code",
   "execution_count": 121,
   "metadata": {},
   "outputs": [
    {
     "data": {
      "image/png": "[encoded data removed]",
      "text/plain": [
       "<Figure size 432x288 with 1 Axes>"
      ]
     },
     "metadata": {
      "needs_background": "light"
     },
     "output_type": "display_data"
    }
   ],
   "source": [
    "probs = list_to_cdf(a)\n",
    "_ = plt.plot(range(len(probs)), probs)"
   ]
  },
  {
   "cell_type": "markdown",
   "metadata": {},
   "source": [
    "# 6. CDF via interpolation"
   ]
  },
  {
   "cell_type": "code",
   "execution_count": 141,
   "metadata": {},
   "outputs": [
    {
     "name": "stdout",
     "output_type": "stream",
     "text": [
      "[0, 33, 66, 99]\n",
      "[0.0, 0.0611183355006502, 0.31859557867360205, 1.0]\n"
     ]
    },
    {
     "data": {
      "image/png": "[encoded data removed]",
      "text/plain": [
       "<Figure size 432x288 with 1 Axes>"
      ]
     },
     "metadata": {
      "needs_background": "light"
     },
     "output_type": "display_data"
    }
   ],
   "source": [
    "selected_ids = np.linspace(0,len(probs)-1,4).astype(int).tolist()\n",
    "print(selected_ids)\n",
    "ids = np.linspace(0,len(probs)-1,len(probs))\n",
    "cdf_probs = [probs[i] for i in selected_ids]\n",
    "print(cdf_probs)\n",
    "cdf_interpol = np.interp(ids,selected_ids,cdf_probs)\n",
    "cdf_interpol\n",
    "_ = plt.plot(range(len(cdf_interpol)), cdf_interpol)"
   ]
  },
  {
   "cell_type": "markdown",
   "metadata": {},
   "source": [
    "# 7. Percentiles"
   ]
  },
  {
   "cell_type": "code",
   "execution_count": 122,
   "metadata": {},
   "outputs": [],
   "source": [
    "def percentile(percent, samples, key=lambda x:x):\n",
    "    \"\"\" \n",
    "    Find the percentile of a list of values. \n",
    "    @parameter N - is a list of values. Note N MUST BE already sorted. \n",
    "    @parameter percent - a float value from 0.0 to 1.0. \n",
    "    @parameter key - optional key function to compute value from each element of N. \n",
    "    @return - the percentile of the values \n",
    "    \"\"\" \n",
    "\n",
    "    if samples is None: \n",
    "        return None \n",
    "\n",
    "    k = (len(samples)-1) * percent \n",
    "    f = math.floor(k) \n",
    "    c = math.ceil(k) \n",
    "\n",
    "    if f == c:\n",
    "        return key(samples[int(k)]) \n",
    "\n",
    "    d0 = key(samples[int(f)]) * (c-k)\n",
    "    d1 = key(samples[int(c)]) * (k-f)\n",
    "\n",
    "    return (d0+d1)\n",
    "\n",
    "def percentile_2(scores,percentile_rank):\n",
    "    scores.sort()\n",
    "    index = percentile_rank * (len(scores)-1) // 100\n",
    "    return scores[index]\n",
    "\n",
    "def inverse_cdf(samples,prob):\n",
    "    samples.sort()\n",
    "    index = int(prob * (len(samples)-1))\n",
    "    return samples[index]"
   ]
  },
  {
   "cell_type": "markdown",
   "metadata": {},
   "source": [
    "### 25 Percentile"
   ]
  },
  {
   "cell_type": "code",
   "execution_count": 123,
   "metadata": {},
   "outputs": [
    {
     "data": {
      "text/plain": [
       "2.0"
      ]
     },
     "execution_count": 123,
     "metadata": {},
     "output_type": "execute_result"
    }
   ],
   "source": [
    "first_quartile = percentile(0.25,a)\n",
    "first_quartile"
   ]
  },
  {
   "cell_type": "markdown",
   "metadata": {},
   "source": [
    "### 50 Percentile"
   ]
  },
  {
   "cell_type": "code",
   "execution_count": 124,
   "metadata": {},
   "outputs": [
    {
     "data": {
      "text/plain": [
       "6.0"
      ]
     },
     "execution_count": 124,
     "metadata": {},
     "output_type": "execute_result"
    }
   ],
   "source": [
    "second_quartile = percentile(.5,a)\n",
    "second_quartile"
   ]
  },
  {
   "cell_type": "markdown",
   "metadata": {},
   "source": [
    "### 75 Percentile"
   ]
  },
  {
   "cell_type": "code",
   "execution_count": 125,
   "metadata": {},
   "outputs": [
    {
     "name": "stdout",
     "output_type": "stream",
     "text": [
      "12.0\n"
     ]
    }
   ],
   "source": [
    "third_quartile = percentile(0.75,a)\n",
    "print(third_quartile)"
   ]
  },
  {
   "cell_type": "markdown",
   "metadata": {},
   "source": [
    "### Comments\n",
    "The x percentile ,i.e , the first number greater than x percent of the sample is the same as the inverse of the CDF function. The inverse CDF calculated from the dictionary output of the CDF function might yeild higher than normal results because  of the binning effect of frequency counts."
   ]
  },
  {
   "cell_type": "markdown",
   "metadata": {},
   "source": [
    "# 8. Partial function for 25 percentile"
   ]
  },
  {
   "cell_type": "code",
   "execution_count": 85,
   "metadata": {},
   "outputs": [
    {
     "data": {
      "text/plain": [
       "5.0"
      ]
     },
     "execution_count": 85,
     "metadata": {},
     "output_type": "execute_result"
    }
   ],
   "source": [
    "first_quartile = partial(percentile,0.25,key=lambda x:x)\n",
    "a.sort()\n",
    "first_quartile(a)"
   ]
  }
 ],
 "metadata": {
  "kernelspec": {
   "display_name": "Python 3",
   "language": "python",
   "name": "python3"
  },
  "language_info": {
   "codemirror_mode": {
    "name": "ipython",
    "version": 3
   },
   "file_extension": ".py",
   "mimetype": "text/x-python",
   "name": "python",
   "nbconvert_exporter": "python",
   "pygments_lexer": "ipython3",
   "version": "3.7.3"
  }
 },
 "nbformat": 4,
 "nbformat_minor": 2
}
