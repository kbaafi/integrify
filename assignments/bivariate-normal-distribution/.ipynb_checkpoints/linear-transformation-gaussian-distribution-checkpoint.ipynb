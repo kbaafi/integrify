{
 "cells": [
  {
   "cell_type": "markdown",
   "metadata": {},
   "source": [
    "# Linear Transformation of a multivariate normal distribution\n",
    "\n",
    "Given a random $\\bar{x} = [x1, x2,.....,xn]$ and a linear transformation $f(x) = A\\bar{x}+\\bar{b} = \\bar{y}$\n",
    "\n",
    "and the assumption that $\\bar{x} \\sim N(\\bar{\\mu_{\\bar{x}}},\\Sigma_\\bar{x})$\n",
    "\n",
    "The parameters of $y$ can be found as follows:\n",
    "\n",
    "$$\\mathbf{y} = A\\mathbf{x}+ \\mathbf{b}$$\n",
    "\n",
    "calculating for the mean, $$E(\\mathbf{y}) = E(\\mathbf{Ax} + \\mathbf{b})$$\n",
    "$$E(\\mathbf{y}) = \\mathbf{A}E(\\mathbf{x}) + \\mathbf{b} = \\mathbf{A}\\bar{\\mu_{{x}}}$$\n",
    "\n",
    "for the variance,\n",
    "\n",
    "$$\\mathbf{\\Sigma_y} = Var(\\mathbf{Ax + b}) = Var(\\mathbf{Ax})+ Var(\\mathbf{b})$$\n",
    "$$ = \\mathbf{A\\Sigma_xA^T}+ \\mathbf{\\Sigma_b}$$\n",
    "\n",
    "For the distribution $\\bar{\\mathbf{Z}} = [{\\bar{x}},{\\bar{y}}]^T$,\n",
    "since $\\bar{x}, \\bar{y}, \\bar{b}$ are normally distributed, \n",
    "\n",
    "$$\\mathbf{\\mu_{xy}} = \\bigg[\\begin{array}{c}\\bar{\\mu_{x}}\\\\ \\mathbf{A}\\bar{\\mu_{{x}}} \\end{array}\\bigg]$$\n",
    "\n",
    "$$\n",
    "    Cov(x,y) = E[(\\mathbf{x}-\\mu_x)(\\mathbf{y}-\\mu_y)] \\\\\n",
    "             = E[\\mathbf{xy^T}]-E[\\mathbf{x}]E[\\mathbf{y}^T]\\\\\n",
    "             = E[\\mathbf{xx^T}A^T+\\mathbf{xb}^T]-\\mathbf{\\mu_x\\mu_x^TA^T}\\\\\n",
    "             = E[\\mathbf{xx^T}]A^T-\\mathbf{\\mu_x\\mu_x^TA^T}\\\\\n",
    "             = \\Sigma_x A^T\n",
    "$$\n",
    "and \n",
    "$$\n",
    "       \\Sigma_{xy} = \\bigg[\\begin{array}{c c}\\\\\n",
    "       Var(x) & Cov(x,y)\\\\\n",
    "       Cov(y,x) & Var(y)\n",
    "       \\end{array}\\bigg]\n",
    "$$\n",
    "\n",
    "$$\n",
    "       \\Sigma_{xy} = \\bigg[\\begin{array}{c c}\\\\\n",
    "       \\Sigma_x & \\Sigma+xA^T\\\\\n",
    "       A\\Sigma_x  & {A\\Sigma_xA^T}+ {\\Sigma_b}\\\\\n",
    "       \\end{array}\\bigg]\n",
    "$$"
   ]
  },
  {
   "cell_type": "markdown",
   "metadata": {},
   "source": [
    "# Mahalanobis Distance"
   ]
  },
  {
   "cell_type": "code",
   "execution_count": null,
   "metadata": {},
   "outputs": [],
   "source": []
  }
 ],
 "metadata": {
  "kernelspec": {
   "display_name": "Python 3",
   "language": "python",
   "name": "python3"
  },
  "language_info": {
   "codemirror_mode": {
    "name": "ipython",
    "version": 3
   },
   "file_extension": ".py",
   "mimetype": "text/x-python",
   "name": "python",
   "nbconvert_exporter": "python",
   "pygments_lexer": "ipython3",
   "version": "3.6.5"
  }
 },
 "nbformat": 4,
 "nbformat_minor": 2
}
