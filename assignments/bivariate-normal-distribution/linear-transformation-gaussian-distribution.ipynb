{
 "cells": [
  {
   "cell_type": "markdown",
   "metadata": {},
   "source": [
    "# Effect of Covariance Matrix on Bivariate Gaussian\n",
    "\n"
   ]
  },
  {
   "cell_type": "markdown",
   "metadata": {},
   "source": [
    "# Linear Transformation of a multivariate normal distribution\n",
    "\n",
    "Given a random $\\bar{x} = [x1, x2,.....,xn]$ and a linear transformation $f(x) = A\\bar{x}+\\bar{b} = \\bar{y}$\n",
    "\n",
    "and the assumption that $\\bar{x} \\sim N(\\bar{\\mu_{\\bar{x}}},\\Sigma_\\bar{x})$\n",
    "\n",
    "The parameters of $y$ can be found as follows:\n",
    "\n",
    "$$\\mathbf{y} = A\\mathbf{x}+ \\mathbf{b}$$\n",
    "\n",
    "calculating for the mean, $$E(\\mathbf{y}) = E(\\mathbf{Ax} + \\mathbf{b})$$\n",
    "$$E(\\mathbf{y}) = \\mathbf{A}E(\\mathbf{x}) + \\mathbf{b} = \\mathbf{A}\\bar{\\mu_{{x}}}$$\n",
    "\n",
    "for the variance,\n",
    "\n",
    "$$\\mathbf{\\Sigma_y} = Var(\\mathbf{Ax + b}) = Var(\\mathbf{Ax})+ Var(\\mathbf{b})$$\n",
    "$$ = \\mathbf{A\\Sigma_xA^T}+ \\mathbf{\\Sigma_b}$$\n",
    "\n",
    "For the distribution $\\bar{\\mathbf{Z}} = [{\\bar{x}},{\\bar{y}}]^T$,\n",
    "since $\\bar{x}, \\bar{y}, \\bar{b}$ are normally distributed, \n",
    "\n",
    "$$\\mathbf{\\mu_{xy}} = \\bigg[\\begin{array}{c}\\bar{\\mu_{x}}\\\\ \\mathbf{A}\\bar{\\mu_{{x}}} \\end{array}\\bigg]$$\n",
    "\n",
    "$$\n",
    "    Cov(x,y) = E[(\\mathbf{x}-\\mu_x)(\\mathbf{y}-\\mu_y)] \\\\\n",
    "       = E[\\mathbf{xy^T}]-E[\\mathbf{x}]E[\\mathbf{y}^T]\\\\\n",
    "             = E[\\mathbf{xx^T}A^T+\\mathbf{xb}^T]-\\mathbf{\\mu_x\\mu_x^TA^T}\\\\\n",
    "             = E[\\mathbf{xx^T}]A^T-\\mathbf{\\mu_x\\mu_x^TA^T}\\\\\n",
    "             = \\Sigma_x A^T\n",
    "$$\n",
    "and \n",
    "$$\n",
    "       \\Sigma_{xy} = \\bigg[\\begin{array}{c c}\n",
    "       Var(x) & Cov(x,y)\\\\\n",
    "       Cov(y,x) & Var(y)\n",
    "       \\end{array}\\bigg]\n",
    "$$\n",
    "\n",
    "$$\n",
    "       \\Sigma_{xy} = \\bigg[\\begin{array}{c c}\n",
    "       \\Sigma_x & \\Sigma+xA^T\\\\\n",
    "       A\\Sigma_x  & {A\\Sigma_xA^T}+ {\\Sigma_b}\\\\\n",
    "       \\end{array}\\bigg]\n",
    "$$"
   ]
  },
  {
   "cell_type": "markdown",
   "metadata": {},
   "source": [
    "# Mahalanobis Distance\n",
    "\n",
    "The Mahalanobis distance is a measurement of distance from a multivariate random variable from its mean. This is analogous to the Euclidean distance from a variable $x_i$ to its mean or centroid $\\mu_x$. The difference between the Euclidean distance and the Mahalanobis distance is that the Mahalanobis distance chooses basis vectors which minimize the variance along those basis vectors, whereas the Euclidean distance maintains the original basis vectors in which the data was recorded. More specifically, the Eigen vectors are selected to be the new basis vectors of the original data and scaled down to elminate the variance of the distribution along each eigen vector. \n",
    "\n",
    "![eigens_cov](images/eigens_covariance.png)\n",
    "\n",
    "Distribution showing covariance and eigen values\n",
    "\n",
    "In the direction along each eigen vector $v_i$, **each data point** is scaled by a factor of $1/\\sqrt{\\lambda_i}$. This eliminates the effect that variables with high variance have on the distance measure and from here we can use the Euclidean distance to measure the distances from $x_i$ to the mean $\\mu_i$\n",
    "\n",
    "\n",
    "**Calculating the distance**\n",
    "The Mahalanobis distance can be calculated as \n",
    "\n",
    "$$D^2 = (x - \\bar{x})^TS^{-1}(x - \\bar{x})$$\n"
   ]
  },
  {
   "cell_type": "markdown",
   "metadata": {},
   "source": [
    "### Python Implementation"
   ]
  },
  {
   "cell_type": "code",
   "execution_count": 50,
   "metadata": {},
   "outputs": [],
   "source": [
    "import numpy as np\n",
    "\n",
    "def mahalanobis(x, input_data):\n",
    "    \"\"\"\n",
    "    Compute the Mahalanobis distance from a given data point to the \n",
    "    mean of points of the given dataset\n",
    "    \n",
    "    Args:\n",
    "        x: the data points whose distance to the mean is to be measures\n",
    "        input_data: the dataset\n",
    "    Returns : _\n",
    "    Raises: _\n",
    "    \"\"\"\n",
    "    \n",
    "    mu_x_distance = x-np.mean(input_data, axis = 0)\n",
    "    inv_cov = np.linalg.inv(np.cov(input_data.T))\n",
    "    mahal_distance_sq = np.matmul(np.matmul(mu_x_distance.T,inv_cov),mu_x_distance)\n",
    "    return np.sqrt(mahal_distance_sq)\n",
    "    "
   ]
  },
  {
   "cell_type": "code",
   "execution_count": 56,
   "metadata": {},
   "outputs": [
    {
     "name": "stdout",
     "output_type": "stream",
     "text": [
      "input data\n",
      " [[6.997874   3.6564732  0.81739104 8.629433  ]\n",
      " [5.6590056  0.11363751 9.655211   7.5297422 ]\n",
      " [2.6685863  8.615622   7.300787   1.2548863 ]\n",
      " [1.1316918  6.5021687  5.6171536  7.090973  ]\n",
      " [9.776507   1.8921409  9.894703   2.3003526 ]\n",
      " [2.5225303  5.9856806  4.772582   4.413095  ]\n",
      " [7.636512   1.9576786  4.7321267  1.3114064 ]\n",
      " [0.52352417 8.240083   3.927919   7.2479157 ]\n",
      " [2.0298588  1.5984614  7.1859426  2.35942   ]\n",
      " [4.984607   2.8390322  2.3046315  1.2996609 ]]\n",
      "random observation [9.776507  1.8921409 9.894703  2.3003526]\n",
      "mahalanobis distance 2.2837965697856344\n"
     ]
    }
   ],
   "source": [
    "a = np.random.rand(10,4).astype(np.float32)*10\n",
    "print(\"input data\\n\", a)\n",
    "x = a[4]\n",
    "print(\"random observation\", x)\n",
    "m = mahalanobis(x,a)\n",
    "print(\"mahalanobis distance\",m)"
   ]
  },
  {
   "cell_type": "code",
   "execution_count": null,
   "metadata": {},
   "outputs": [],
   "source": []
  }
 ],
 "metadata": {
  "kernelspec": {
   "display_name": "Python 3",
   "language": "python",
   "name": "python3"
  },
  "language_info": {
   "codemirror_mode": {
    "name": "ipython",
    "version": 3
   },
   "file_extension": ".py",
   "mimetype": "text/x-python",
   "name": "python",
   "nbconvert_exporter": "python",
   "pygments_lexer": "ipython3",
   "version": "3.6.5"
  }
 },
 "nbformat": 4,
 "nbformat_minor": 2
}
