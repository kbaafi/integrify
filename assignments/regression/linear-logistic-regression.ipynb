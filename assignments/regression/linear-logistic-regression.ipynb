{
 "cells": [
  {
   "cell_type": "markdown",
   "metadata": {},
   "source": [
    "# 6. Can gradient descent be used to find the parameters for linear regression?\n",
    "\n",
    "Let $J_{\\mathbf{\\theta}}(x)$, where $\\mathbf{\\theta}$, be the cost function to our regression algorithm. Then the first derivatives of the cost function can be derived as \n",
    "\n",
    "$$\\frac{\\partial{J(\\theta_0,\\theta_1,....\\theta_n)}}{\\partial{\\theta_j}}$$\n",
    "\n",
    "If $J_{\\mathbf{\\theta}}(x)$, the cost function is differentiable then the updated parameters at each iteration is given by \n",
    "\n",
    "$$\\theta_j := \\theta_j - \\alpha \\frac{\\partial{J(\\theta_0,\\theta_1,...,\\theta_n)}}{\\partial{\\theta_j}}$$ \n",
    "\n",
    "where $\\alpha$ is the learning rate, and we iteratively update the parameters until the cost function is minimized.\n",
    "\n",
    "In linear regression, our hypothesis function $\\mathbf{h_{\\theta}}(\\mathbf{x})$ that maps our inputs $\\mathbf{x}$ to outputs $\\mathbf{y}$ is the dot product of the parameters $\\mathbf{\\theta}$ and the inputs.  The cost function is a function of the hypothesis function and the outputs, so we have a case where \n",
    "\n",
    "$$J_{\\mathbf{\\theta}}(x) = f(\\mathbf{h_{\\theta}}(\\mathbf{x}),\\mathbf{y})$$\n",
    "\n",
    "if $f(\\mathbf{h_{\\theta}}(\\mathbf{x}),\\mathbf{y})$ is differentiable, then gradient descent can be used to find the parameters, given $f$\n",
    "\n",
    "In the case of Logistic regression, the hypothesis function $h(\\mathbf{x})$ is given by\n",
    "$$h_{\\theta}(\\mathbf{x})=\\bigg\\{\\begin{array}{c} p(y = 1 | x; \\theta )  \\\\ p(y = 0 | x; \\theta ) = 1- p(y = 1 | x; \\theta ) \\end{array}\\bigg\\} = 1   $$\n"
   ]
  },
  {
   "cell_type": "code",
   "execution_count": null,
   "metadata": {},
   "outputs": [],
   "source": []
  }
 ],
 "metadata": {
  "kernelspec": {
   "display_name": "Python 3",
   "language": "python",
   "name": "python3"
  },
  "language_info": {
   "codemirror_mode": {
    "name": "ipython",
    "version": 3
   },
   "file_extension": ".py",
   "mimetype": "text/x-python",
   "name": "python",
   "nbconvert_exporter": "python",
   "pygments_lexer": "ipython3",
   "version": "3.7.3"
  }
 },
 "nbformat": 4,
 "nbformat_minor": 2
}
